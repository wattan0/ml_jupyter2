{
 "cells": [
  {
   "cell_type": "markdown",
   "metadata": {},
   "source": [
    "# ロジスティック回帰"
   ]
  },
  {
   "cell_type": "code",
   "execution_count": 1,
   "metadata": {
    "collapsed": true
   },
   "outputs": [],
   "source": [
    "%matplotlib inline\n",
    "import numpy as np\n",
    "import matplotlib.pyplot as plt"
   ]
  },
  {
   "cell_type": "markdown",
   "metadata": {},
   "source": [
    "## 訓練データ生成"
   ]
  },
  {
   "cell_type": "code",
   "execution_count": 2,
   "metadata": {
    "collapsed": true
   },
   "outputs": [],
   "source": [
    "x0 = np.random.normal(size=50).reshape(-1, 2) - 1.\n",
    "x1 = np.random.normal(size=50).reshape(-1, 2) + 1.\n",
    "x_train = np.concatenate([x0, x1])\n",
    "y_train = np.concatenate([np.zeros(25), np.ones(25)]).astype(np.int)"
   ]
  },
  {
   "cell_type": "code",
   "execution_count": 3,
   "metadata": {
    "collapsed": false
   },
   "outputs": [
    {
     "data": {
      "text/plain": [
       "<matplotlib.collections.PathCollection at 0x1065914e0>"
      ]
     },
     "execution_count": 3,
     "metadata": {},
     "output_type": "execute_result"
    },
    {
     "data": {
      "image/png": "[encoded data removed]",
      "text/plain": [
       "<matplotlib.figure.Figure at 0x10649d860>"
      ]
     },
     "metadata": {},
     "output_type": "display_data"
    }
   ],
   "source": [
    "plt.scatter(x_train[:, 0], x_train[:, 1], c=y_train)"
   ]
  },
  {
   "cell_type": "markdown",
   "metadata": {
    "collapsed": true
   },
   "source": [
    "## ロジスティック回帰モデル"
   ]
  },
  {
   "cell_type": "markdown",
   "metadata": {},
   "source": [
    "識別モデルとして$p(y=1 | \\boldsymbol{x}; \\boldsymbol{w}) = \\sigma (\\boldsymbol{w}^{\\mathrm{T}} \\boldsymbol{x})$を用いる。\n",
    "\n",
    "ただし、$\\sigma(\\cdot)$はシグモイド関数であり、$\\sigma(h) = \\frac{1}{1 + \\exp{(-h)}}$で定義される。\n",
    "\n",
    "また、陽には書かないが、$\\boldsymbol{x}$には定数項のための$1$という要素があることを仮定する。"
   ]
  },
  {
   "cell_type": "markdown",
   "metadata": {},
   "source": [
    "## 学習"
   ]
  },
  {
   "cell_type": "markdown",
   "metadata": {},
   "source": [
    "訓練データ$X = [\\boldsymbol{x}_{1}, \\boldsymbol{x}_{2}, ..., \\boldsymbol{x}_{n}]^{\\mathrm{T}}, \\boldsymbol{y} = [y_{1}, y_{2}, ..., y_{n}]^{\\mathrm{T}} (y_{i} = \\{0, 1\\})$に対して尤度関数$L$は以下のように書ける。\n",
    "\n",
    "$L(\\boldsymbol{w}) = \\prod_{i=1}^{n} p(y_{i}=1 | \\boldsymbol{x}_{i}; \\boldsymbol{w})^{y_{i}} (1 - p(y_{i}=1 | \\boldsymbol{x}_{i}; \\boldsymbol{w}))^{1 - y_{i}}$\n",
    "\n",
    "負の対数尤度関数は\n",
    "\n",
    "$- \\log{L(\\boldsymbol{w})} = - \\sum_{i=1}^{n} \\left[ y_{i} \\log{p(y_{i}=1 | \\boldsymbol{x}_{i}; \\boldsymbol{w})} + (1 - y_{i}) \\log{(1 - p(y_{i}=1 | \\boldsymbol{x}_{i}; \\boldsymbol{w}))} \\right]$\n",
    "\n",
    "のように書ける。 これを最小化する$\\boldsymbol{w}$を求める。\n",
    "\n",
    "$\\frac{d \\sigma(h)}{d h} = \\sigma(h)(1 - \\sigma(h))$と書けることを考慮し、負の対数尤度関数を$\\boldsymbol{w}$で偏微分すると、\n",
    "\n",
    "\\begin{eqnarray}\n",
    "\\frac{\\partial }{\\partial \\boldsymbol{w}} (-\\log{L(\\boldsymbol{w})}) &=& -\\sum_{i=1}^{n} \\left[ y_{i} (1 - \\sigma(\\boldsymbol{w}^{\\mathrm{T}} \\boldsymbol{x}_{i})) - (1 - y_{i}) \\sigma(\\boldsymbol{w}^{\\mathrm{T}} \\boldsymbol{x}_{i}) \\right] \\boldsymbol{x}_{i}  \\\\\n",
    "&=& \\sum_{i=1}^{n} \\left( \\sigma(\\boldsymbol{w}^{\\mathrm{T}} \\boldsymbol{x}_{i}) - y_{i} ) \\right) \\boldsymbol{x}_{i}\n",
    "\\end{eqnarray}\n",
    "\n",
    "この式が$0$となる$\\boldsymbol{w}$は解析的に求められないので、今回は$-\\log{L(\\boldsymbol{w})}$の最小化問題を最急降下法を用いて解く。\n",
    "\n",
    "最急降下法では学習率を$\\eta$とすると、以下の式で$\\boldsymbol{w}$を更新する。\n",
    "\n",
    "$\\boldsymbol{w} \\leftarrow \\boldsymbol{w} - \\eta \\frac{\\partial }{\\partial \\boldsymbol{w}} (-\\log{L(\\boldsymbol{w})})$"
   ]
  },
  {
   "cell_type": "code",
   "execution_count": 4,
   "metadata": {
    "collapsed": false
   },
   "outputs": [],
   "source": [
    "def add_one(x):\n",
    "    return np.concatenate([np.ones(len(x))[:, None], x], axis=1)"
   ]
  },
  {
   "cell_type": "code",
   "execution_count": 5,
   "metadata": {
    "collapsed": false
   },
   "outputs": [],
   "source": [
    "def sigmoid(x):\n",
    "    return 1 / (1 + np.exp(-x))\n",
    "\n",
    "X_train = add_one(x_train)\n",
    "\n",
    "max_iter=100\n",
    "eta = 0.01\n",
    "w = np.zeros(X_train.shape[1])\n",
    "for _ in range(max_iter):\n",
    "    w_prev = np.copy(w)\n",
    "    sigma = sigmoid(np.dot(X_train, w))\n",
    "    grad = np.dot(X_train.T, (sigma - y_train))\n",
    "    w -= eta * grad\n",
    "    if np.allclose(w, w_prev):\n",
    "        break"
   ]
  },
  {
   "cell_type": "markdown",
   "metadata": {},
   "source": [
    "## 予測"
   ]
  },
  {
   "cell_type": "markdown",
   "metadata": {},
   "source": [
    "入力に対して、$y=1$である確率を出力する。よって\n",
    "\n",
    "$p(y=1 | \\boldsymbol{x}; \\boldsymbol{w}) = \\sigma (\\boldsymbol{w}^{\\mathrm{T}} \\boldsymbol{x})$の値が\n",
    "\n",
    "$0.5$より大きければ1に、小さければ0に分類する。"
   ]
  },
  {
   "cell_type": "code",
   "execution_count": 6,
   "metadata": {
    "collapsed": true
   },
   "outputs": [],
   "source": [
    "xx0, xx1 = np.meshgrid(np.linspace(-5, 5, 100), np.linspace(-5, 5, 100))\n",
    "xx = np.array([xx0, xx1]).reshape(2, -1).T"
   ]
  },
  {
   "cell_type": "code",
   "execution_count": 7,
   "metadata": {
    "collapsed": true
   },
   "outputs": [],
   "source": [
    "X_test = add_one(xx)\n",
    "proba = sigmoid(np.dot(X_test, w))\n",
    "y_pred = (proba > 0.5).astype(np.int)"
   ]
  },
  {
   "cell_type": "code",
   "execution_count": 8,
   "metadata": {
    "collapsed": false
   },
   "outputs": [
    {
     "data": {
      "text/plain": [
       "<matplotlib.contour.QuadContourSet at 0x1066077f0>"
      ]
     },
     "execution_count": 8,
     "metadata": {},
     "output_type": "execute_result"
    },
    {
     "data": {
      "image/png": "[encoded data removed]",
      "text/plain": [
       "<matplotlib.figure.Figure at 0x1066077b8>"
      ]
     },
     "metadata": {},
     "output_type": "display_data"
    }
   ],
   "source": [
    "plt.scatter(x_train[:, 0], x_train[:, 1], c=y_train)\n",
    "plt.contourf(xx0, xx1, proba.reshape(100, 100), alpha=0.2, levels=np.linspace(0, 1, 3))"
   ]
  }
 ],
 "metadata": {
  "kernelspec": {
   "display_name": "Python 3",
   "language": "python",
   "name": "python3"
  },
  "language_info": {
   "codemirror_mode": {
    "name": "ipython",
    "version": 3
   },
   "file_extension": ".py",
   "mimetype": "text/x-python",
   "name": "python",
   "nbconvert_exporter": "python",
   "pygments_lexer": "ipython3",
   "version": "3.6.0"
  }
 },
 "nbformat": 4,
 "nbformat_minor": 2
}
