{
 "cells": [
  {
   "cell_type": "markdown",
   "metadata": {},
   "source": [
    "# VGG"
   ]
  },
  {
   "cell_type": "code",
   "execution_count": 1,
   "metadata": {
    "collapsed": true
   },
   "outputs": [],
   "source": [
    "import chainer\n",
    "import pickle\n",
    "import numpy as np"
   ]
  },
  {
   "cell_type": "markdown",
   "metadata": {},
   "source": [
    "## 訓練データ"
   ]
  },
  {
   "cell_type": "markdown",
   "metadata": {},
   "source": [
    "cifar10から作成したサイズの小さいデータセット  \n",
    "・飛行機、自動車、鳥の3クラス  \n",
    "・各100枚の画像とラベル"
   ]
  },
  {
   "cell_type": "code",
   "execution_count": 2,
   "metadata": {
    "collapsed": false
   },
   "outputs": [
    {
     "name": "stdout",
     "output_type": "stream",
     "text": [
      "(300, 3072) (300,) [b'airplane', b'automobile', b'bird']\n"
     ]
    }
   ],
   "source": [
    "with open('data/classification_data.pkl', 'rb') as f:\n",
    "    dic = pickle.load(f)\n",
    "\n",
    "data = dic['data']\n",
    "labels = dic['labels']\n",
    "label_names = dic['label_names']\n",
    "print(data.shape, labels.shape, label_names)"
   ]
  },
  {
   "cell_type": "code",
   "execution_count": 3,
   "metadata": {
    "collapsed": true
   },
   "outputs": [],
   "source": [
    "# データchainerに適する形に変換（型はfloat32 or int32、画像は(batch_size, channel, width, height)）\n",
    "# 画像は255で割って0~1に変換\n",
    "data = data.reshape(-1, 3, 32, 32).astype(np.float32) / 255.0\n",
    "labels = np.array(labels, dtype=np.int32)"
   ]
  },
  {
   "cell_type": "code",
   "execution_count": 4,
   "metadata": {
    "collapsed": true
   },
   "outputs": [],
   "source": [
    "# イテレーターを作成\n",
    "train = chainer.datasets.TupleDataset(data, labels)\n",
    "train_iter = chainer.iterators.SerialIterator(train, batch_size=64)"
   ]
  },
  {
   "cell_type": "markdown",
   "metadata": {},
   "source": [
    "## モデル"
   ]
  },
  {
   "cell_type": "markdown",
   "metadata": {},
   "source": [
    "サイズの小さいVGG"
   ]
  },
  {
   "cell_type": "code",
   "execution_count": 5,
   "metadata": {
    "collapsed": false
   },
   "outputs": [],
   "source": [
    "from chainer import functions as F\n",
    "from chainer import initializers\n",
    "from chainer import links as L\n",
    "\n",
    "class VGG(chainer.Chain):\n",
    "    \n",
    "    def __init__(self, n_class=3):\n",
    "        super(VGG, self).__init__()\n",
    "        \n",
    "        init = {\n",
    "            'initialW': initializers.Normal(0.01),\n",
    "            'initial_bias': initializers.Zero(),\n",
    "            }\n",
    "        \n",
    "        with self.init_scope():\n",
    "            self.conv1_1 = L.Convolution2D(None, 64, 3, pad=1, **init)\n",
    "            self.bn1_1 = L.BatchNormalization(64)\n",
    "            self.conv1_2 = L.Convolution2D(64, 64, 3, pad=1, **init)\n",
    "            self.bn1_2 = L.BatchNormalization(64)\n",
    "\n",
    "            self.conv2_1 = L.Convolution2D(64, 128, 3, pad=1, **init)\n",
    "            self.bn2_1 = L.BatchNormalization(128)\n",
    "            self.conv2_2 = L.Convolution2D(128, 128, 3, pad=1, **init)\n",
    "            self.bn2_2 = L.BatchNormalization(128)\n",
    "\n",
    "            self.fc3 = L.Linear(None, 1024, **init)\n",
    "            self.fc4 = L.Linear(1024, n_class, **init)\n",
    "\n",
    "    def __call__(self, x):\n",
    "        h = F.relu(self.bn1_1(self.conv1_1(x)))\n",
    "        h = F.relu(self.bn1_2(self.conv1_2(h)))\n",
    "        h = F.max_pooling_2d(h, 2, 2)\n",
    "\n",
    "        h = F.relu(self.bn2_1(self.conv2_1(h)))\n",
    "        h = F.relu(self.bn2_2(self.conv2_2(h)))\n",
    "        h = F.max_pooling_2d(h, 2, 2)\n",
    "        h = F.dropout(h, ratio=0.25)\n",
    "\n",
    "        h = F.dropout(F.relu(self.fc3(h)), ratio=0.25)\n",
    "        h = self.fc4(h)\n",
    "        return h"
   ]
  },
  {
   "cell_type": "markdown",
   "metadata": {},
   "source": [
    "## 学習"
   ]
  },
  {
   "cell_type": "code",
   "execution_count": 6,
   "metadata": {
    "collapsed": false
   },
   "outputs": [
    {
     "data": {
      "text/plain": [
       "<chainer.optimizers.momentum_sgd.MomentumSGD at 0x10c23b630>"
      ]
     },
     "execution_count": 6,
     "metadata": {},
     "output_type": "execute_result"
    }
   ],
   "source": [
    "model = L.Classifier(VGG())\n",
    "# 最適化手法はモメンタムSGD\n",
    "optimizer = chainer.optimizers.MomentumSGD(0.01)\n",
    "optimizer.setup(model)"
   ]
  },
  {
   "cell_type": "code",
   "execution_count": 7,
   "metadata": {
    "collapsed": true
   },
   "outputs": [],
   "source": [
    "from chainer import training\n",
    "from chainer.training import extensions\n",
    "\n",
    "# trainer設定\n",
    "updater = training.updaters.StandardUpdater(train_iter, optimizer, device=-1)\n",
    "trainer = training.Trainer(updater, stop_trigger=(20, 'epoch'), out='result')\n",
    "# 出力設定\n",
    "trainer.extend(extensions.LogReport())\n",
    "trainer.extend(extensions.PrintReport(['epoch', 'iteration', 'main/loss']))"
   ]
  },
  {
   "cell_type": "code",
   "execution_count": 8,
   "metadata": {
    "collapsed": false
   },
   "outputs": [
    {
     "name": "stdout",
     "output_type": "stream",
     "text": [
      "epoch       iteration   main/loss \n",
      "\u001b[J1           5           0.973457    \n",
      "\u001b[J2           10          0.715886    \n",
      "\u001b[J3           15          0.659233    \n",
      "\u001b[J4           19          0.486215    \n",
      "\u001b[J5           24          0.410281    \n",
      "\u001b[J6           29          0.344972    \n",
      "\u001b[J7           33          0.30976     \n",
      "\u001b[J8           38          0.318987    \n",
      "\u001b[J9           43          0.215985    \n",
      "\u001b[J10          47          0.151372    \n",
      "\u001b[J11          52          0.121763    \n",
      "\u001b[J12          57          0.0642578   \n",
      "\u001b[J13          61          0.0969505   \n",
      "\u001b[J14          66          0.0452192   \n",
      "\u001b[J15          71          0.03673     \n",
      "\u001b[J16          75          0.0375586   \n",
      "\u001b[J17          80          0.0195431   \n",
      "\u001b[J18          85          0.0286934   \n",
      "\u001b[J19          90          0.0111133   \n",
      "\u001b[J20          94          0.0123494   \n"
     ]
    }
   ],
   "source": [
    "# 実行\n",
    "trainer.run()"
   ]
  },
  {
   "cell_type": "code",
   "execution_count": 9,
   "metadata": {
    "collapsed": false
   },
   "outputs": [],
   "source": [
    "# trainer使わないversion\n",
    "\n",
    "# n_epoch = 20\n",
    "# while train_iter.epoch < n_epoch:\n",
    "#     train_batch = train_iter.next()\n",
    "#     x, t = chainer.dataset.concat_examples(train_batch)\n",
    "#     loss = model(x, t)\n",
    "#     model.cleargrads()\n",
    "#     loss.backward()\n",
    "#     optimizer.update()\n",
    "#     if train_iter.is_new_epoch:\n",
    "#         print('epoch:{:02d} loss:{:.04f} '.format(train_iter.epoch, np.float(loss.data)))"
   ]
  },
  {
   "cell_type": "markdown",
   "metadata": {},
   "source": [
    "## 結果"
   ]
  },
  {
   "cell_type": "markdown",
   "metadata": {},
   "source": [
    "簡単のため訓練データに対して実際に学習できているか確認する。\n",
    "（精度の検証などをするときは検証データやテストデータを別途用意して検証する）"
   ]
  },
  {
   "cell_type": "code",
   "execution_count": 10,
   "metadata": {
    "collapsed": false
   },
   "outputs": [
    {
     "name": "stdout",
     "output_type": "stream",
     "text": [
      "output probabilities : [[  1.25096191e-03   7.68978737e-07   9.98748302e-01]]\n",
      "prediction : b'bird'\n",
      "true          : b'bird'\n"
     ]
    },
    {
     "data": {
      "text/plain": [
       "<matplotlib.image.AxesImage at 0x112dce3c8>"
      ]
     },
     "execution_count": 10,
     "metadata": {},
     "output_type": "execute_result"
    },
    {
     "data": {
      "image/png": "[encoded data removed]",
      "text/plain": [
       "<matplotlib.figure.Figure at 0x112c42630>"
      ]
     },
     "metadata": {},
     "output_type": "display_data"
    }
   ],
   "source": [
    "import matplotlib.pyplot as plt\n",
    "%matplotlib inline\n",
    "\n",
    "test_batch = train_iter.next()\n",
    "x, t = test_batch[0]\n",
    "chainer.config.train=False\n",
    "prob = F.softmax(model.predictor(x[None]))\n",
    "print('output probabilities : {}'.format(prob.data))  # [b'airplane', b'automobile', b'bird']\n",
    "print('prediction : {}'.format(label_names[prob.data.argmax()]))\n",
    "print('true          : {}'.format(label_names[t]))\n",
    "\n",
    "img = x.reshape(3, 32, 32).transpose((1, 2, 0))\n",
    "plt.figure()\n",
    "plt.imshow(img)"
   ]
  }
 ],
 "metadata": {
  "kernelspec": {
   "display_name": "Python 3",
   "language": "python",
   "name": "python3"
  },
  "language_info": {
   "codemirror_mode": {
    "name": "ipython",
    "version": 3
   },
   "file_extension": ".py",
   "mimetype": "text/x-python",
   "name": "python",
   "nbconvert_exporter": "python",
   "pygments_lexer": "ipython3",
   "version": "3.6.0"
  }
 },
 "nbformat": 4,
 "nbformat_minor": 2
}
