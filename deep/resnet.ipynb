{
 "cells": [
  {
   "cell_type": "markdown",
   "metadata": {},
   "source": [
    "# ResNet (Residual Network)"
   ]
  },
  {
   "cell_type": "code",
   "execution_count": 1,
   "metadata": {
    "collapsed": true
   },
   "outputs": [],
   "source": [
    "import collections\n",
    "\n",
    "import chainer\n",
    "from chainer import functions as F\n",
    "from chainer import initializers\n",
    "from chainer import links as L"
   ]
  },
  {
   "cell_type": "markdown",
   "metadata": {},
   "source": [
    "## モデル"
   ]
  },
  {
   "cell_type": "markdown",
   "metadata": {},
   "source": [
    "ResNetは画像識別タスクで高いパフォーマンスを出したモデルである。  \n",
    "VGG16などよりもさらに層の深いモデルである。ResNetでは以下の残差ブロックと呼ばれる構造を導入した。\n",
    "\n",
    "<img src=\"image/block.png\", style=\"width: 100px;\">\n",
    "(引用 「Deep Residual Learning for Image Recognition」)\n",
    "\n",
    "このブロックでは、畳込み層の出力と入力の和を出力する。  \n",
    "この残差ブロックを複数組み合わせたモデルがResNetであり、以下は34層のResNet全体の構造である。\n",
    "\n",
    "<img src=\"image/resnet.png\", style=\"width: 100px;\">\n",
    "(引用 「Deep Residual Learning for Image Recognition」)"
   ]
  },
  {
   "cell_type": "code",
   "execution_count": 2,
   "metadata": {
    "collapsed": false
   },
   "outputs": [],
   "source": [
    "class BasicA(chainer.Chain):\n",
    "    # (特徴マップの)sizeが変わるときの残差ブロック\n",
    "    def __init__(self, in_size, ch, stride):\n",
    "        super(BasicA, self).__init__()\n",
    "        # 重みの初期値\n",
    "        w = initializers.HeNormal()\n",
    "\n",
    "        with self.init_scope():\n",
    "            # sizeが半分に\n",
    "            self.conv1 = L.Convolution2D(in_size, ch, ksize=3, \n",
    "                                         stride=stride, pad=1, initialW=w, nobias=True)\n",
    "            self.bn1 = L.BatchNormalization(ch)      \n",
    "            self.conv2 = L.Convolution2D(ch, ch, ksize=3, \n",
    "                                         stride=1, pad=1, initialW=w, nobias=True)\n",
    "            self.bn2 = L.BatchNormalization(ch)\n",
    "            # sizeが半分に\n",
    "            self.conv3 = L.Convolution2D(in_size, ch, ksize=3, \n",
    "                                         stride=stride, pad=1, initialW=w, nobias=True)\n",
    "            self.bn3 = L.BatchNormalization(ch)\n",
    "\n",
    "    def __call__(self, x):\n",
    "        h1 = F.relu(self.bn1(self.conv1(x)))\n",
    "        h1 = self.bn2(self.conv2(h1))\n",
    "        \n",
    "        h2 = self.bn3(self.conv3(x))\n",
    "\n",
    "        return F.relu(h1 + h2)\n",
    "\n",
    "\n",
    "class BasicB(chainer.Chain):\n",
    "    # 普通の残差ブロック\n",
    "    def __init__(self, in_size, ch):\n",
    "        super(BasicB, self).__init__()\n",
    "        # 重みの初期値\n",
    "        w = chainer.initializers.HeNormal()\n",
    "\n",
    "        with self.init_scope():\n",
    "            self.conv1 = L.Convolution2D(in_size, ch, ksize=3, \n",
    "                                         stride=1, pad=1, initialW=w, nobias=True)\n",
    "            self.bn1 = L.BatchNormalization(ch)\n",
    "            self.conv2 = L.Convolution2D(ch, ch, ksize=3, \n",
    "                                         stride=1, pad=1, initialW=w, nobias=True)\n",
    "            self.bn2 = L.BatchNormalization(ch)\n",
    "\n",
    "    def __call__(self, x):\n",
    "        h = F.relu(self.bn1(self.conv1(x)))\n",
    "        h = self.bn2(self.conv2(h))\n",
    "\n",
    "        return F.relu(h + x)\n",
    "\n",
    "\n",
    "class BasicBlock(chainer.ChainList):\n",
    "    \"\"\"\n",
    "    残差ブロックを並べたもの。\n",
    "    残差ブロックA１個と残差ブロックB複数個\n",
    "    \"\"\"\n",
    "    def __init__(self, layer, in_size, ch, stride=2):\n",
    "        super(BasicBlock, self).__init__()\n",
    "        with self.init_scope():\n",
    "            self.add_link(BasicA(in_size, ch, stride))\n",
    "            for i in range(1, layer):\n",
    "                self.add_link(BasicB(ch, ch))\n",
    "\n",
    "    def __call__(self, x):\n",
    "        for f in self.children():\n",
    "            x = f(x)\n",
    "        return x\n",
    "\n",
    "\n",
    "class ResNet34(chainer.Chain):\n",
    "    # 34層のResNet\n",
    "    def  __init__(self, n_classes=1000):\n",
    "        super(ResNet34, self).__init__()\n",
    "        \n",
    "        with self.init_scope():\n",
    "            self.conv1 = L.Convolution2D(3, 64, ksize=7, stride=2, pad=3, \n",
    "                                         initialW=initializers.HeNormal(), nobias=True)\n",
    "            self.bn1 = L.BatchNormalization(64)           \n",
    "            self.res2 = BasicBlock(3, 64, 64, stride=1)            \n",
    "            self.res3 = BasicBlock(4, 64, 128)     \n",
    "            self.res4 = BasicBlock(6, 128, 256)\n",
    "            self.res5 = BasicBlock(3, 256, 512)            \n",
    "            self.fc = L.Linear(512, n_classes)\n",
    "             \n",
    "    def __call__(self, x):                # size: 224\n",
    "        h = self.bn1(self.conv1(x))  # size: 112\n",
    "        h = F.max_pooling_2d(F.relu(h), ksize=3, stride=2)     # size: 56\n",
    "        h = self.res2(h)                   # size: 56\n",
    "        h = self.res3(h)                   # size: 28\n",
    "        h = self.res4(h)                   # size: 14\n",
    "        h = self.res5(h)                   # size: 7\n",
    "        h = F.average_pooling_2d(h, 7, stride=1)       # size: 1\n",
    "        h = self.fc(h)\n",
    "\n",
    "        return h"
   ]
  },
  {
   "cell_type": "code",
   "execution_count": 3,
   "metadata": {
    "collapsed": false
   },
   "outputs": [],
   "source": [
    "resnet = ResNet34()"
   ]
  },
  {
   "cell_type": "code",
   "execution_count": 4,
   "metadata": {
    "collapsed": false
   },
   "outputs": [
    {
     "name": "stdout",
     "output_type": "stream",
     "text": [
      "(1, 1000)\n"
     ]
    }
   ],
   "source": [
    "import numpy as np\n",
    "img = np.ones((1, 3, 224, 224), dtype=np.float32)\n",
    "output = resnet(img)\n",
    "print(output.shape)"
   ]
  }
 ],
 "metadata": {
  "kernelspec": {
   "display_name": "Python 3",
   "language": "python",
   "name": "python3"
  },
  "language_info": {
   "codemirror_mode": {
    "name": "ipython",
    "version": 3
   },
   "file_extension": ".py",
   "mimetype": "text/x-python",
   "name": "python",
   "nbconvert_exporter": "python",
   "pygments_lexer": "ipython3",
   "version": "3.6.0"
  }
 },
 "nbformat": 4,
 "nbformat_minor": 2
}
