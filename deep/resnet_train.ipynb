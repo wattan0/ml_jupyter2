{
 "cells": [
  {
   "cell_type": "markdown",
   "metadata": {},
   "source": [
    "# ResNet"
   ]
  },
  {
   "cell_type": "code",
   "execution_count": 1,
   "metadata": {
    "collapsed": true
   },
   "outputs": [],
   "source": [
    "import chainer\n",
    "import pickle\n",
    "import numpy as np"
   ]
  },
  {
   "cell_type": "markdown",
   "metadata": {},
   "source": [
    "## 訓練データ"
   ]
  },
  {
   "cell_type": "markdown",
   "metadata": {},
   "source": [
    "cifar10から作成したサイズの小さいデータセット  \n",
    "・飛行機、自動車、鳥の3クラス  \n",
    "・各100枚の画像とラベル"
   ]
  },
  {
   "cell_type": "code",
   "execution_count": 2,
   "metadata": {
    "collapsed": false
   },
   "outputs": [
    {
     "name": "stdout",
     "output_type": "stream",
     "text": [
      "(300, 3072) (300,) [b'airplane', b'automobile', b'bird']\n"
     ]
    }
   ],
   "source": [
    "with open('data/classification_data.pkl', 'rb') as f:\n",
    "    dic = pickle.load(f)\n",
    "\n",
    "data = dic['data']\n",
    "labels = dic['labels']\n",
    "label_names = dic['label_names']\n",
    "print(data.shape, labels.shape, label_names)"
   ]
  },
  {
   "cell_type": "code",
   "execution_count": 3,
   "metadata": {
    "collapsed": false
   },
   "outputs": [],
   "source": [
    "# データchainerに適する形に変換（型はfloat32 or int32、画像は(batch_size, channel, width, height)）\n",
    "# 画像は255で割って0~1に変換\n",
    "data = data.reshape(-1, 3, 32, 32).astype(np.float32) / 255.0\n",
    "labels = np.array(labels, dtype=np.int32)"
   ]
  },
  {
   "cell_type": "code",
   "execution_count": 4,
   "metadata": {
    "collapsed": false
   },
   "outputs": [],
   "source": [
    "# イテレーターを作成\n",
    "train = chainer.datasets.TupleDataset(data, labels)\n",
    "train_iter = chainer.iterators.SerialIterator(train, batch_size=64)"
   ]
  },
  {
   "cell_type": "markdown",
   "metadata": {},
   "source": [
    "## モデル"
   ]
  },
  {
   "cell_type": "markdown",
   "metadata": {},
   "source": [
    "サイズの小さいResNet"
   ]
  },
  {
   "cell_type": "code",
   "execution_count": 5,
   "metadata": {
    "collapsed": true
   },
   "outputs": [],
   "source": [
    "from chainer import functions as F\n",
    "from chainer import initializers\n",
    "from chainer import links as L\n",
    "\n",
    "class BasicA(chainer.Chain):\n",
    "    # (特徴マップの)sizeが変わるときの残差ブロック\n",
    "    def __init__(self, in_size, ch, stride):\n",
    "        super(BasicA, self).__init__()\n",
    "        # 重みの初期値\n",
    "        w = initializers.HeNormal()\n",
    "\n",
    "        with self.init_scope():\n",
    "            # sizeが半分に\n",
    "            self.conv1 = L.Convolution2D(in_size, ch, ksize=3, \n",
    "                                         stride=stride, pad=1, initialW=w, nobias=True)\n",
    "            self.bn1 = L.BatchNormalization(ch)      \n",
    "            self.conv2 = L.Convolution2D(ch, ch, ksize=3, \n",
    "                                         stride=1, pad=1, initialW=w, nobias=True)\n",
    "            self.bn2 = L.BatchNormalization(ch)\n",
    "            # sizeが半分に\n",
    "            self.conv3 = L.Convolution2D(in_size, ch, ksize=3, \n",
    "                                         stride=stride, pad=1, initialW=w, nobias=True)\n",
    "            self.bn3 = L.BatchNormalization(ch)\n",
    "\n",
    "    def __call__(self, x):\n",
    "        h1 = F.relu(self.bn1(self.conv1(x)))\n",
    "        h1 = self.bn2(self.conv2(h1))\n",
    "        \n",
    "        h2 = self.bn3(self.conv3(x))\n",
    "\n",
    "        return F.relu(h1 + h2)\n",
    "\n",
    "\n",
    "class BasicB(chainer.Chain):\n",
    "    # 普通の残差ブロック\n",
    "    def __init__(self, in_size, ch):\n",
    "        super(BasicB, self).__init__()\n",
    "        # 重みの初期値\n",
    "        w = initializers.HeNormal()\n",
    "\n",
    "        with self.init_scope():\n",
    "            self.conv1 = L.Convolution2D(in_size, ch, ksize=3, \n",
    "                                         stride=1, pad=1, initialW=w, nobias=True)\n",
    "            self.bn1 = L.BatchNormalization(ch)\n",
    "            self.conv2 = L.Convolution2D(ch, ch, ksize=3, \n",
    "                                         stride=1, pad=1, initialW=w, nobias=True)\n",
    "            self.bn2 = L.BatchNormalization(ch)\n",
    "\n",
    "    def __call__(self, x):\n",
    "        h = F.relu(self.bn1(self.conv1(x)))\n",
    "        h = self.bn2(self.conv2(h))\n",
    "\n",
    "        return F.relu(h + x)\n",
    "\n",
    "\n",
    "class BasicBlock(chainer.ChainList):\n",
    "    \"\"\"\n",
    "    残差ブロックを並べたもの。\n",
    "    残差ブロックA１個と残差ブロックB複数個\n",
    "    \"\"\"\n",
    "    def __init__(self, layer, in_size, ch, stride=2):\n",
    "        super(BasicBlock, self).__init__()\n",
    "        with self.init_scope():\n",
    "            self.add_link(BasicA(in_size, ch, stride))\n",
    "            for i in range(1, layer):\n",
    "                self.add_link(BasicB(ch, ch))\n",
    "\n",
    "    def __call__(self, x):\n",
    "        for f in self.children():\n",
    "            x = f(x)\n",
    "        return x\n",
    "\n",
    "\n",
    "class ResNet(chainer.Chain):\n",
    "    def  __init__(self, n_classes=3):\n",
    "        super(ResNet, self).__init__()\n",
    "        \n",
    "        with self.init_scope():\n",
    "            self.conv1 = L.Convolution2D(3, 64, ksize=3, stride=1, pad=1,\n",
    "                                         initialW=initializers.HeNormal(), nobias=True)\n",
    "            self.bn1 = L.BatchNormalization(64)           \n",
    "            self.res2 = BasicBlock(2, 64, 64, stride=1)            \n",
    "            self.res3 = BasicBlock(2, 64, 128) \n",
    "            self.res4 = BasicBlock(2, 128, 256)\n",
    "            self.fc = L.Linear(256, n_classes)\n",
    "             \n",
    "    def __call__(self, x):                # size: 32\n",
    "        h = self.bn1(self.conv1(x))\n",
    "        h = F.max_pooling_2d(F.relu(h), ksize=2, stride=2)     # size: 16\n",
    "        h = self.res2(h)                   # size: 16\n",
    "        h = self.res3(h)                   # size: 8\n",
    "        h = self.res4(h)                   # size: 4\n",
    "        h = F.average_pooling_2d(h, 4, stride=1)      # size: 1\n",
    "        h = self.fc(h)\n",
    "\n",
    "        return h"
   ]
  },
  {
   "cell_type": "markdown",
   "metadata": {},
   "source": [
    "## 学習"
   ]
  },
  {
   "cell_type": "code",
   "execution_count": 6,
   "metadata": {
    "collapsed": false
   },
   "outputs": [
    {
     "data": {
      "text/plain": [
       "<chainer.optimizers.momentum_sgd.MomentumSGD at 0x111b62b00>"
      ]
     },
     "execution_count": 6,
     "metadata": {},
     "output_type": "execute_result"
    }
   ],
   "source": [
    "model = L.Classifier(ResNet())\n",
    "# 最適化手法はモメンタムSGD\n",
    "optimizer = chainer.optimizers.MomentumSGD(lr=0.05)\n",
    "optimizer.setup(model)"
   ]
  },
  {
   "cell_type": "code",
   "execution_count": 7,
   "metadata": {
    "collapsed": false
   },
   "outputs": [],
   "source": [
    "from chainer import training\n",
    "from chainer.training import extensions\n",
    "\n",
    "# trainer設定\n",
    "updater = training.updaters.StandardUpdater(train_iter, optimizer, device=-1)\n",
    "trainer = training.Trainer(updater, stop_trigger=(20, 'epoch'), out='result')\n",
    "# 出力設定\n",
    "trainer.extend(extensions.LogReport())\n",
    "trainer.extend(extensions.PrintReport(['epoch', 'iteration', 'main/loss']))"
   ]
  },
  {
   "cell_type": "code",
   "execution_count": 8,
   "metadata": {
    "collapsed": false
   },
   "outputs": [
    {
     "name": "stdout",
     "output_type": "stream",
     "text": [
      "epoch       iteration   main/loss \n",
      "\u001b[J1           5           1.14314     \n",
      "\u001b[J2           10          0.78476     \n",
      "\u001b[J3           15          0.62394     \n",
      "\u001b[J4           19          0.385489    \n",
      "\u001b[J5           24          0.286218    \n",
      "\u001b[J6           29          0.433206    \n",
      "\u001b[J7           33          0.424519    \n",
      "\u001b[J8           38          0.190338    \n",
      "\u001b[J9           43          0.0981595   \n",
      "\u001b[J10          47          0.168876    \n",
      "\u001b[J11          52          0.115696    \n",
      "\u001b[J12          57          0.271729    \n",
      "\u001b[J13          61          0.204037    \n",
      "\u001b[J14          66          0.189054    \n",
      "\u001b[J15          71          0.131351    \n",
      "\u001b[J16          75          0.0471388   \n",
      "\u001b[J17          80          0.0495198   \n",
      "\u001b[J18          85          0.00658235  \n",
      "\u001b[J19          90          0.0108717   \n",
      "\u001b[J20          94          0.0121343   \n"
     ]
    }
   ],
   "source": [
    "# 実行\n",
    "trainer.run()"
   ]
  },
  {
   "cell_type": "code",
   "execution_count": 9,
   "metadata": {
    "collapsed": false
   },
   "outputs": [],
   "source": [
    "# trainer使わないversion\n",
    "\n",
    "# n_epoch = 20\n",
    "# while train_iter.epoch < n_epoch:\n",
    "#     train_batch = train_iter.next()\n",
    "#     x, t = chainer.dataset.concat_examples(train_batch)\n",
    "#     loss = model(x, t)\n",
    "#     model.cleargrads()\n",
    "#     loss.backward()\n",
    "#     optimizer.update()\n",
    "#     if train_iter.is_new_epoch:\n",
    "#         print('epoch:{:02d} loss:{:.04f} '.format(train_iter.epoch, np.float(loss.data)))"
   ]
  },
  {
   "cell_type": "markdown",
   "metadata": {},
   "source": [
    "## 結果"
   ]
  },
  {
   "cell_type": "markdown",
   "metadata": {},
   "source": [
    "簡単のため訓練データに対して実際に学習できているか確認する。\n",
    "（精度の検証などをするときは検証データやテストデータを別途用意して検証する）"
   ]
  },
  {
   "cell_type": "code",
   "execution_count": 10,
   "metadata": {
    "collapsed": false
   },
   "outputs": [
    {
     "name": "stdout",
     "output_type": "stream",
     "text": [
      "output probabilities : [[  2.28391091e-05   6.78140452e-07   9.99976516e-01]]\n",
      "prediction : b'bird'\n",
      "true          : b'bird'\n"
     ]
    },
    {
     "data": {
      "text/plain": [
       "<matplotlib.image.AxesImage at 0x11d4a0710>"
      ]
     },
     "execution_count": 10,
     "metadata": {},
     "output_type": "execute_result"
    },
    {
     "data": {
      "image/png": "[encoded data removed]",
      "text/plain": [
       "<matplotlib.figure.Figure at 0x11d39ae48>"
      ]
     },
     "metadata": {},
     "output_type": "display_data"
    }
   ],
   "source": [
    "import matplotlib.pyplot as plt\n",
    "%matplotlib inline\n",
    "\n",
    "test_batch = train_iter.next()\n",
    "x, t = test_batch[0]\n",
    "chainer.config.train=False\n",
    "prob = F.softmax(model.predictor(x[None]))\n",
    "print('output probabilities : {}'.format(prob.data))  # [b'airplane', b'automobile', b'bird']\n",
    "print('prediction : {}'.format(label_names[prob.data.argmax()]))\n",
    "print('true          : {}'.format(label_names[t]))\n",
    "\n",
    "img = x.reshape(3, 32, 32).transpose((1, 2, 0))\n",
    "plt.figure()\n",
    "plt.imshow(img)"
   ]
  }
 ],
 "metadata": {
  "kernelspec": {
   "display_name": "Python 3",
   "language": "python",
   "name": "python3"
  },
  "language_info": {
   "codemirror_mode": {
    "name": "ipython",
    "version": 3
   },
   "file_extension": ".py",
   "mimetype": "text/x-python",
   "name": "python",
   "nbconvert_exporter": "python",
   "pygments_lexer": "ipython3",
   "version": "3.6.0"
  }
 },
 "nbformat": 4,
 "nbformat_minor": 2
}
