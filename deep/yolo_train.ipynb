{
 "cells": [
  {
   "cell_type": "markdown",
   "metadata": {},
   "source": [
    "# YOLO"
   ]
  },
  {
   "cell_type": "code",
   "execution_count": 1,
   "metadata": {
    "collapsed": true
   },
   "outputs": [],
   "source": [
    "import chainer\n",
    "import numpy as np\n",
    "import os\n",
    "import pickle\n",
    "import collections"
   ]
  },
  {
   "cell_type": "markdown",
   "metadata": {},
   "source": [
    "## 訓練データ"
   ]
  },
  {
   "cell_type": "markdown",
   "metadata": {},
   "source": [
    "PASCAL VOC2007から作成した小さいデータセット  \n",
    "・人間か犬が写っている画像200枚と、その対象のラベルと位置"
   ]
  },
  {
   "cell_type": "code",
   "execution_count": 2,
   "metadata": {
    "collapsed": true
   },
   "outputs": [],
   "source": [
    "from chainercv.chainer_experimental.datasets.sliceable import GetterDataset\n",
    "from chainercv.utils import read_image\n",
    "\n",
    "label_names = ('person', 'dog')\n",
    "\n",
    "class VOCBboxDataset(GetterDataset):\n",
    "    # データセット\n",
    "    def __init__(self, use_difficult=False):\n",
    "        super(VOCBboxDataset, self).__init__()\n",
    "\n",
    "        self.data_dir = 'data/detection_data/'\n",
    "        path = os.path.join(self.data_dir, 'detection_data.pkl')\n",
    "        with open(path, 'rb') as f:\n",
    "            self.dic = pickle.load(f)\n",
    "\n",
    "        self.add_getter('img', self._get_image)\n",
    "        self.add_getter(('bbox', 'label'), self._get_annotations)\n",
    "        \n",
    "        self.keys = ('img', 'bbox', 'label')\n",
    "\n",
    "    def __len__(self):\n",
    "        return len(self.dic)\n",
    "\n",
    "    def _get_image(self, i):\n",
    "        id_ = self.dic[i]['id']\n",
    "        img_path = os.path.join(self.data_dir, 'JPEGImages', id_ + '.jpg')\n",
    "        img = read_image(img_path, color=True)\n",
    "        return img\n",
    "\n",
    "    def _get_annotations(self, i):\n",
    "        bbox, label = self.dic[i]['bbox'], self.dic[i]['label']\n",
    "        return bbox, label"
   ]
  },
  {
   "cell_type": "code",
   "execution_count": 3,
   "metadata": {
    "collapsed": true
   },
   "outputs": [],
   "source": [
    "import copy\n",
    "from chainercv import transforms\n",
    "from PIL import Image\n",
    "\n",
    "class Transform(object):\n",
    "    # 画像や物体の位置を適する形に変換\n",
    "    def __init__(self, coder, size, mean):\n",
    "        self.coder = copy.copy(coder)\n",
    "\n",
    "        self.size = size  # networkへ入力する画像サイズ\n",
    "        self.mean = mean  # 画像の平均強度\n",
    "\n",
    "    def __call__(self, in_data):\n",
    "        img, bbox, label = in_data\n",
    "\n",
    "        # 画像のリサイズとそれに伴う位置の修正\n",
    "        _, H, W = img.shape\n",
    "        img = np.transpose(img, (1, 2, 0))\n",
    "        img = Image.fromarray(np.uint8(img))\n",
    "        img = img.resize((self.size, self.size))\n",
    "        img = np.asarray(img, dtype=np.float32)\n",
    "        img = np.transpose(img, (2, 0, 1))\n",
    "        bbox = transforms.resize_bbox(bbox, (H, W), (self.size, self.size))\n",
    "\n",
    "        # Preparation\n",
    "        img -= self.mean\n",
    "        loc, label = self.coder.encode(bbox, label)\n",
    "\n",
    "        return img, loc, label"
   ]
  },
  {
   "cell_type": "code",
   "execution_count": 4,
   "metadata": {
    "collapsed": false
   },
   "outputs": [],
   "source": [
    "class Coder():\n",
    "    # ラベルや位置データ ↔ ニューラルネットワークの出力\n",
    "    def __init__(self, insize, n_obj):\n",
    "        self.insize = insize\n",
    "        self.n_obj = n_obj\n",
    "    \n",
    "    def encode(self, bboxs, labels):\n",
    "        # ラベルや位置データ → ニューラルネットワークの出力に適する形の教師データ\n",
    "        if len(bboxs) == 0:\n",
    "            return (\n",
    "                np.zeros(4, dtype=np.float32),\n",
    "                np.zeros(self.n_obj, dtype=np.int32)\n",
    "                )\n",
    "        \n",
    "        # 今回は画像中で物体の領域が最も大きい物体のみを検出\n",
    "        areas = []\n",
    "        for bbox in bboxs:\n",
    "            areas.append(bbox[2] * bbox[3])\n",
    "        index = np.argmax(areas)\n",
    "        \n",
    "        # バウンディングボックスから(center_y, center_x, height, width)への変換\n",
    "        loc = bboxs[index].copy()\n",
    "        # (y_min, x_min, y_max, x_max) -> (y_min, x_min, height, width)\n",
    "        loc[2:] -= loc[:2]\n",
    "        # (y_min, x_min, height, width) -> (center_y, center_x, height, width)\n",
    "        loc[:2] += loc[2:] * 0.5\n",
    "        loc /= self.insize\n",
    "\n",
    "        # ラベル\n",
    "        label = labels[index]\n",
    "        return loc.astype(np.float32), label\n",
    "    \n",
    "    def decode(self, loc, p, conf):\n",
    "        # ニューラルネットワークの出力 → 位置、ラベル、スコア\n",
    "        # encodeの逆\n",
    "        loc[:2] -= loc[2:] * 0.5\n",
    "        loc[2:] += loc[:2]\n",
    "        loc *= self.insize\n",
    "\n",
    "        bbox = loc.astype(np.float32)\n",
    "        label = np.argmax(p)\n",
    "        # スコア = 対象物体の確率×バウンディングボックスの信頼度\n",
    "        score = p[label] * conf\n",
    "\n",
    "        return bbox, label, score"
   ]
  },
  {
   "cell_type": "code",
   "execution_count": 5,
   "metadata": {
    "collapsed": false
   },
   "outputs": [],
   "source": [
    "from chainer.datasets import TransformDataset\n",
    "\n",
    "insize = 56\n",
    "mean = np.array((123, 117, 104)).reshape((-1, 1, 1))\n",
    "\n",
    "# イテレータを作成\n",
    "coder = Coder(insize, 2)\n",
    "train = TransformDataset(\n",
    "    VOCBboxDataset(),\n",
    "    Transform(coder, insize, mean))\n",
    "train_iter = chainer.iterators.SerialIterator(train, batch_size=64)"
   ]
  },
  {
   "cell_type": "markdown",
   "metadata": {},
   "source": [
    "### データの可視化（真）"
   ]
  },
  {
   "cell_type": "code",
   "execution_count": 6,
   "metadata": {
    "collapsed": false
   },
   "outputs": [
    {
     "data": {
      "text/plain": [
       "<matplotlib.axes._subplots.AxesSubplot at 0x10adbb4a8>"
      ]
     },
     "execution_count": 6,
     "metadata": {},
     "output_type": "execute_result"
    },
    {
     "data": {
      "image/png": "[encoded data removed]",
      "text/plain": [
       "<matplotlib.figure.Figure at 0x109efa080>"
      ]
     },
     "metadata": {},
     "output_type": "display_data"
    }
   ],
   "source": [
    "from chainercv.visualizations import vis_bbox\n",
    "import matplotlib.pyplot as plt\n",
    "% matplotlib inline\n",
    "\n",
    "sample = train_iter.next()[0]\n",
    "img, loc, label = sample\n",
    "p =[0., 0.]\n",
    "p[label] = 1.\n",
    "bbox, label, score = coder.decode(loc, p, 1.)\n",
    "\n",
    "vis_bbox(\n",
    "    img+mean, [bbox], [label], [score], label_names=label_names)"
   ]
  },
  {
   "cell_type": "markdown",
   "metadata": {},
   "source": [
    "## モデル"
   ]
  },
  {
   "cell_type": "markdown",
   "metadata": {},
   "source": [
    "サイズの小さいYOLO\n",
    "\n",
    "YOLOの前半の層は分類タスクによって事前学習する（学習の安定化のため）ので、ベースとなる部分とそれ以降の部分に分ける。"
   ]
  },
  {
   "cell_type": "code",
   "execution_count": 7,
   "metadata": {
    "collapsed": true
   },
   "outputs": [],
   "source": [
    "from chainer import functions as F\n",
    "from chainer import initializers\n",
    "from chainer import links as L\n",
    "\n",
    "class BaseNet(chainer.Chain):\n",
    "    # 分類器とYOLOで重みをシェアする部分\n",
    "    def  __init__(self):\n",
    "        super(BaseNet, self).__init__()\n",
    "        # 重みの初期値\n",
    "        init = {\n",
    "            'initialW': initializers.Normal(0.01),\n",
    "            'initial_bias': initializers.Zero(),\n",
    "            }\n",
    "        \n",
    "        with self.init_scope():\n",
    "            self.conv1 = L.Convolution2D(3, 64, ksize=3, stride=2, pad=1, **init)\n",
    "            self.bn1 = L.BatchNormalization(64)\n",
    "            \n",
    "            self.conv2_1 = L.Convolution2D(64, 192, ksize=3, stride=1, pad=1, **init)\n",
    "            self.conv2_2 = L.Convolution2D(192, 192, ksize=3, stride=1, pad=1, **init)\n",
    "            self.bn2 = L.BatchNormalization(192)\n",
    "            \n",
    "            self.fc = L.Linear(192 * 7 * 7, 512, **init)\n",
    "        \n",
    "        self.functions = self.orderd_functions()\n",
    "    \n",
    "    def __call__(self, x):\n",
    "        h = x\n",
    "        for key, funcs in self.functions.items():\n",
    "            for func in funcs:\n",
    "                h = func(h)\n",
    "        return h\n",
    "    \n",
    "    def orderd_functions(self):\n",
    "        return collections.OrderedDict([                            # size: 56\n",
    "            ('conv1',    [self.conv1, _leaky_relu, self.bn1]),      # size: 28\n",
    "            ('pool1',     [_max_pooling_2d]),                           # size: 14\n",
    "            \n",
    "            ('conv2_1', [self.conv2_1, _leaky_relu]),\n",
    "            ('conv2_2', [self.conv2_2, _leaky_relu, self.bn2]),\n",
    "            ('pool2',     [_max_pooling_2d]),                            # size: 7\n",
    "            \n",
    "            ('fc',        [self.fc, _leaky_relu]),\n",
    "        ])\n",
    "    \n",
    "def _max_pooling_2d(x):\n",
    "    return F.max_pooling_2d(x, ksize=2)\n",
    "\n",
    "def _leaky_relu(x):\n",
    "    return F.leaky_relu(x, slope=0.1)"
   ]
  },
  {
   "cell_type": "code",
   "execution_count": 8,
   "metadata": {
    "collapsed": true
   },
   "outputs": [],
   "source": [
    "class PreClassifier(chainer.Chain):\n",
    "    # 事前学習する分類器の出力部分\n",
    "    def  __init__(self, base):\n",
    "        super(PreClassifier, self).__init__()\n",
    "        with self.init_scope():\n",
    "            self.base = base\n",
    "            self.fc1 = L.Linear(512, 512)\n",
    "            self.fc2 = L.Linear(None, 2)\n",
    "        \n",
    "    def __call__(self, x):\n",
    "        h = base(x)\n",
    "        h = F.dropout(_leaky_relu(self.fc1(h)))\n",
    "        return self.fc2(h)"
   ]
  },
  {
   "cell_type": "markdown",
   "metadata": {},
   "source": [
    "### 事前学習"
   ]
  },
  {
   "cell_type": "markdown",
   "metadata": {},
   "source": [
    "YOLOの前半の層を分類タスクによって事前学習する"
   ]
  },
  {
   "cell_type": "code",
   "execution_count": 9,
   "metadata": {
    "collapsed": false
   },
   "outputs": [],
   "source": [
    "base = BaseNet()\n",
    "model = L.Classifier(PreClassifier(base))"
   ]
  },
  {
   "cell_type": "code",
   "execution_count": 10,
   "metadata": {
    "collapsed": false
   },
   "outputs": [
    {
     "data": {
      "text/plain": [
       "<chainer.optimizers.momentum_sgd.MomentumSGD at 0x109dd4ba8>"
      ]
     },
     "execution_count": 10,
     "metadata": {},
     "output_type": "execute_result"
    }
   ],
   "source": [
    "optimizer = chainer.optimizers.MomentumSGD(lr=0.001)\n",
    "optimizer.setup(model)"
   ]
  },
  {
   "cell_type": "code",
   "execution_count": 11,
   "metadata": {
    "collapsed": false
   },
   "outputs": [
    {
     "name": "stdout",
     "output_type": "stream",
     "text": [
      "epoch:01 loss:0.8073 \n",
      "epoch:02 loss:0.5150 \n",
      "epoch:03 loss:0.5014 \n",
      "epoch:04 loss:0.4099 \n",
      "epoch:05 loss:0.2758 \n",
      "epoch:06 loss:0.2504 \n",
      "epoch:07 loss:0.2593 \n",
      "epoch:08 loss:0.1566 \n",
      "epoch:09 loss:0.1021 \n",
      "epoch:10 loss:0.0794 \n",
      "epoch:11 loss:0.0881 \n",
      "epoch:12 loss:0.0738 \n",
      "epoch:13 loss:0.0587 \n",
      "epoch:14 loss:0.0367 \n",
      "epoch:15 loss:0.0262 \n",
      "epoch:16 loss:0.0219 \n",
      "epoch:17 loss:0.0239 \n",
      "epoch:18 loss:0.0217 \n",
      "epoch:19 loss:0.0193 \n",
      "epoch:20 loss:0.0110 \n"
     ]
    }
   ],
   "source": [
    "n_epoch = 20\n",
    "\n",
    "while train_iter.epoch < n_epoch:\n",
    "    train_batch = train_iter.next()\n",
    "    x, t_loc, t_label = chainer.dataset.concat_examples(train_batch)\n",
    "    loss = model(x, t_label)\n",
    "    model.cleargrads()\n",
    "    loss.backward()\n",
    "    optimizer.update()\n",
    "    if train_iter.is_new_epoch:\n",
    "        print('epoch:{:02d} loss:{:.04f} '.format(train_iter.epoch, np.float(loss.data)))"
   ]
  },
  {
   "cell_type": "markdown",
   "metadata": {},
   "source": [
    "### YOLOの後半部分"
   ]
  },
  {
   "cell_type": "code",
   "execution_count": 12,
   "metadata": {
    "collapsed": false
   },
   "outputs": [],
   "source": [
    "from chainer import reporter\n",
    "\n",
    "class YOLO(chainer.Chain):\n",
    "    # YOLOの出力部分\n",
    "    def  __init__(self, base):\n",
    "        super(YOLO, self).__init__()\n",
    "        \n",
    "        with self.init_scope():\n",
    "            self.base = base\n",
    "            self.fc1 = L.Linear(512, 512)\n",
    "            self.fc2 = L.Linear(None, 1*1*7)\n",
    "        \n",
    "    def predictor(self, x):\n",
    "        h = self.base(x)\n",
    "        h = F.dropout(_leaky_relu(self.fc1(h)))\n",
    "        return self.fc2(h)\n",
    "    \n",
    "    def __call__(self, x, *t):\n",
    "        t_loc, t_label = t\n",
    "        output = self.predictor(x)\n",
    "        batch_size = output.shape[0]\n",
    "        \n",
    "        x, y, w, h, conf, prob = interpret(output)\n",
    "        tx, ty, tw, th = np.split(t_loc.astype(np.float32), [1, 2, 3], axis=1)\n",
    "        I = np.eye(2, dtype=np.float32)\n",
    "        tprob = I[t_label]\n",
    "        tconf = iou(x, y, w, h, tx, ty, tw, th)\n",
    "        loss = _loss(x, y, w, h, conf, prob,\n",
    "                                tx, ty, tw, th, tprob, tconf)\n",
    "        reporter.report({'loss': loss}, self)\n",
    "        return loss\n",
    "    \n",
    "\n",
    "def _loss(x, y, w, h, conf, prob,\n",
    "             tx, ty, tw, th, tprob, tconf, l_box=5., l_conf=0.5):  # すべてobj\n",
    "    # YOLOの損失関数\n",
    "    x_loss = F.sum((tx - x) ** 2) / 2\n",
    "    y_loss = F.sum((ty - y) ** 2) / 2\n",
    "#     w_loss = F.sum((tw - w) ** 2) / 2\n",
    "#     h_loss = F.sum((th - h) ** 2) / 2\n",
    "    w_loss = F.sum((F.sqrt(tw) - F.sqrt(w)) ** 2) / 2\n",
    "    h_loss = F.sum((F.sqrt(th) - F.sqrt(h)) ** 2) / 2\n",
    "    c_loss = F.sum((tconf - conf) ** 2) / 2\n",
    "    p_loss = F.sum((tprob - prob) ** 2) / 2\n",
    "    return l_box*(x_loss + y_loss + w_loss + h_loss) + l_conf*c_loss + p_loss\n",
    "\n",
    "\n",
    "def interpret(output):\n",
    "    # YOLOの出力をバウンディングボックスの位置やサイズ、信頼度、\n",
    "    # 物体クラスの確率と解釈可能な形に変換\n",
    "    x, y, w, h, conf, prob = F.split_axis(output, (1, 2, 3, 4, 5), axis=1)\n",
    "    x = F.sigmoid(x)\n",
    "    y = F.sigmoid(y)\n",
    "    w = F.sigmoid(w)\n",
    "    h = F.sigmoid(h)\n",
    "    conf = F.sigmoid(conf)\n",
    "    prob = F.softmax(prob)\n",
    "    return x, y, w, h, conf, prob\n",
    "\n",
    "\n",
    "def iou(x, y, w, h, tx, ty, tw, th):\n",
    "    # IOU = 2つのバウンディングボックスの共通面積 / 連結した2つのバウンディングボックスの総面積\n",
    "    width = overlap(x, w, tx, tw)\n",
    "    height = overlap(y, h, ty, th)\n",
    "    intersection = width * height\n",
    "    union = w*h + tw*th - intersection\n",
    "    return intersection / union\n",
    "    \n",
    "\n",
    "def overlap(x1, len1, x2, len2):\n",
    "    # 共通部分\n",
    "    len1_half = len1/2\n",
    "    len2_half = len2/2\n",
    "    \n",
    "    left = F.maximum(x1 - len1_half, x2 - len2_half)\n",
    "    right = F.minimum(x1 + len1_half, x2 + len2_half)\n",
    "\n",
    "    return right - left"
   ]
  },
  {
   "cell_type": "markdown",
   "metadata": {},
   "source": [
    "## 学習"
   ]
  },
  {
   "cell_type": "code",
   "execution_count": 13,
   "metadata": {
    "collapsed": false
   },
   "outputs": [
    {
     "data": {
      "text/plain": [
       "<chainer.optimizers.momentum_sgd.MomentumSGD at 0x10aed0f60>"
      ]
     },
     "execution_count": 13,
     "metadata": {},
     "output_type": "execute_result"
    }
   ],
   "source": [
    "yolo = YOLO(base)\n",
    "optimizer = chainer.optimizers.MomentumSGD(lr=1e-6)\n",
    "optimizer.setup(yolo)"
   ]
  },
  {
   "cell_type": "code",
   "execution_count": 14,
   "metadata": {
    "collapsed": true
   },
   "outputs": [],
   "source": [
    "from chainer import training\n",
    "from chainer.training import extensions\n",
    "\n",
    "# trainer設定\n",
    "train_iter = chainer.iterators.SerialIterator(train, batch_size=64)\n",
    "updater = training.updaters.StandardUpdater(train_iter, optimizer, device=-1)\n",
    "trainer = training.Trainer(updater, stop_trigger=(30, 'epoch'), out='result')\n",
    "# 出力設定\n",
    "trainer.extend(extensions.LogReport())\n",
    "trainer.extend(extensions.PrintReport(['epoch', 'iteration', 'main/loss']))"
   ]
  },
  {
   "cell_type": "code",
   "execution_count": 15,
   "metadata": {
    "collapsed": false
   },
   "outputs": [
    {
     "name": "stdout",
     "output_type": "stream",
     "text": [
      "epoch       iteration   main/loss \n",
      "\u001b[J1           4           92.7416     \n",
      "\u001b[J2           7           85.6492     \n",
      "\u001b[J3           10          77.7445     \n",
      "\u001b[J4           13          74.1976     \n",
      "\u001b[J5           16          67.3723     \n",
      "\u001b[J6           19          63.0742     \n",
      "\u001b[J7           22          60.1407     \n",
      "\u001b[J8           25          55.0126     \n",
      "\u001b[J9           29          52.8334     \n",
      "\u001b[J10          32          48.0104     \n",
      "\u001b[J11          35          48.4192     \n",
      "\u001b[J12          38          46.3837     \n",
      "\u001b[J13          41          46.3883     \n",
      "\u001b[J14          44          46.2929     \n",
      "\u001b[J15          47          43.7514     \n",
      "\u001b[J16          50          43.2385     \n",
      "\u001b[J17          54          42.0067     \n",
      "\u001b[J18          57          41.7856     \n",
      "\u001b[J19          60          42.7708     \n",
      "\u001b[J20          63          44.314      \n",
      "\u001b[J21          66          34.9482     \n",
      "\u001b[J22          69          36.272      \n",
      "\u001b[J23          72          34.2021     \n",
      "\u001b[J24          75          34.7912     \n",
      "\u001b[J25          79          33.9796     \n",
      "\u001b[J26          82          34.1324     \n",
      "\u001b[J27          85          31.3105     \n",
      "\u001b[J28          88          29.4767     \n",
      "\u001b[J29          91          28.3378     \n",
      "\u001b[J30          94          30.4057     \n"
     ]
    }
   ],
   "source": [
    "# 実行\n",
    "trainer.run()"
   ]
  },
  {
   "cell_type": "code",
   "execution_count": 16,
   "metadata": {
    "collapsed": false
   },
   "outputs": [],
   "source": [
    "# trainer使わないversion\n",
    "\n",
    "# n_epoch = 50\n",
    "# while train_iter.epoch < n_epoch:\n",
    "#     train_batch = train_iter.next()\n",
    "#     x, t_loc, t_label, t_obj = chainer.dataset.concat_examples(train_batch)\n",
    "#     loss = yolo(x, t_loc, t_label, t_obj)\n",
    "#     yolo.cleargrads()\n",
    "#     loss.backward()\n",
    "#     optimizer.update()\n",
    "#     if train_iter.is_new_epoch:\n",
    "#         print('epoch:{:02d} loss:{:.04f} '.format(train_iter.epoch, np.float(loss.data)))"
   ]
  },
  {
   "cell_type": "markdown",
   "metadata": {},
   "source": [
    "## 結果の可視化"
   ]
  },
  {
   "cell_type": "markdown",
   "metadata": {},
   "source": [
    "簡単のため訓練データに対して実際に学習できているか確認する。\n",
    "（精度の検証などをするときは検証データやテストデータを別途用意して検証する）"
   ]
  },
  {
   "cell_type": "code",
   "execution_count": 17,
   "metadata": {
    "collapsed": false
   },
   "outputs": [
    {
     "data": {
      "text/plain": [
       "<matplotlib.axes._subplots.AxesSubplot at 0x10ae24630>"
      ]
     },
     "execution_count": 17,
     "metadata": {},
     "output_type": "execute_result"
    },
    {
     "data": {
      "image/png": "[encoded data removed]",
      "text/plain": [
       "<matplotlib.figure.Figure at 0x10968ee10>"
      ]
     },
     "metadata": {},
     "output_type": "display_data"
    }
   ],
   "source": [
    "sample = train_iter.next()[0]\n",
    "img, loc, label = sample\n",
    "chainer.config.train=False\n",
    "x, y, w, h, conf, prob = interpret(yolo.predictor(np.array([img])))\n",
    "\n",
    "loc = np.array([x.data, y.data, w.data, h.data]).ravel()\n",
    "bbox, label, score = coder.decode(loc, prob.data.ravel(), conf.data.ravel()[0])\n",
    "vis_bbox(\n",
    "    img+mean, [bbox], [label], [score], label_names=label_names)"
   ]
  }
 ],
 "metadata": {
  "kernelspec": {
   "display_name": "Python 3",
   "language": "python",
   "name": "python3"
  },
  "language_info": {
   "codemirror_mode": {
    "name": "ipython",
    "version": 3
   },
   "file_extension": ".py",
   "mimetype": "text/x-python",
   "name": "python",
   "nbconvert_exporter": "python",
   "pygments_lexer": "ipython3",
   "version": "3.6.0"
  }
 },
 "nbformat": 4,
 "nbformat_minor": 2
}
