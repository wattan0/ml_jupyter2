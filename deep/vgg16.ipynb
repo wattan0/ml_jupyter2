{
 "cells": [
  {
   "cell_type": "markdown",
   "metadata": {},
   "source": [
    "# VGG16"
   ]
  },
  {
   "cell_type": "code",
   "execution_count": 1,
   "metadata": {
    "collapsed": true
   },
   "outputs": [],
   "source": [
    "import collections\n",
    "\n",
    "import chainer\n",
    "from chainer import functions as F\n",
    "from chainer import initializers\n",
    "from chainer import links as L"
   ]
  },
  {
   "cell_type": "markdown",
   "metadata": {},
   "source": [
    "## モデル"
   ]
  },
  {
   "cell_type": "markdown",
   "metadata": {},
   "source": [
    "VGG16は画像識別タスクで高いパフォーマンスを出したモデルである。  \n",
    "畳み込み13層と全結合3層の計16層から成る畳み込みニューラルネットワークであり、詳細は以下のとおりである。  \n",
    "（conv3-Xは畳み込みのカーネルサイズが3、特徴マップがX個であることを意味する。)\n",
    "\n",
    "<img src=\"image/vgg16.png\", style=\"width: 500px;\">  \n",
    "(引用 「Very Deep Convolutional Networks for Large-Scale Image Recognition」)"
   ]
  },
  {
   "cell_type": "code",
   "execution_count": 2,
   "metadata": {
    "collapsed": false
   },
   "outputs": [],
   "source": [
    "class VGG16(chainer.Chain):\n",
    "\n",
    "    def  __init__(self, n_classes=1000):\n",
    "        super(VGG16, self).__init__()\n",
    "        \n",
    "        # 重みの初期値\n",
    "        kwargs = {\n",
    "            'initialW': initializers.Normal(0.01),\n",
    "            'initial_bias': initializers.Zero(),\n",
    "            }\n",
    "        \n",
    "        with self.init_scope():\n",
    "            # L.Convolution2D(in_channels, out_channels, ksize, stride, pad)\n",
    "            self.conv1_1 = L.Convolution2D(3, 64, ksize=3, stride=1, pad=1, **kwargs)\n",
    "            self.conv1_2 = L.Convolution2D(64, 64, ksize=3, stride=1, pad=1, **kwargs)\n",
    "            \n",
    "            self.conv2_1 = L.Convolution2D(64, 128, ksize=3, stride=1, pad=1, **kwargs)\n",
    "            self.conv2_2 = L.Convolution2D(128, 128, ksize=3, stride=1, pad=1, **kwargs)\n",
    "            \n",
    "            self.conv3_1 = L.Convolution2D(128, 256, ksize=3, stride=1, pad=1, **kwargs)\n",
    "            self.conv3_2 = L.Convolution2D(256, 256, ksize=3, stride=1, pad=1, **kwargs)\n",
    "            self.conv3_3 = L.Convolution2D(256, 256, ksize=3, stride=1, pad=1, **kwargs)\n",
    "            \n",
    "            self.conv4_1 = L.Convolution2D(256, 512, ksize=3, stride=1, pad=1, **kwargs)\n",
    "            self.conv4_2 = L.Convolution2D(512, 512, ksize=3, stride=1, pad=1, **kwargs)\n",
    "            self.conv4_3 = L.Convolution2D(512, 512, ksize=3, stride=1, pad=1, **kwargs)\n",
    "            \n",
    "            self.conv5_1 = L.Convolution2D(512, 512, ksize=3, stride=1, pad=1, **kwargs)\n",
    "            self.conv5_2 = L.Convolution2D(512, 512, ksize=3, stride=1, pad=1, **kwargs)\n",
    "            self.conv5_3 = L.Convolution2D(512, 512, ksize=3, stride=1, pad=1, **kwargs)\n",
    "            \n",
    "            # L.Linear(in_size, out_size)\n",
    "            self.fc6 = L.Linear(512 * 7 * 7, 4096, **kwargs)\n",
    "            self.fc7 = L.Linear(4096, 4096, **kwargs)\n",
    "            self.fc8 = L.Linear(4096, n_classes, **kwargs)\n",
    "        \n",
    "        self.functions = self.orderd_functions()\n",
    "    \n",
    "    def __call__(self, x):\n",
    "        h = x\n",
    "        for key, funcs in self.functions.items():\n",
    "            for func in funcs:\n",
    "                h = func(h)\n",
    "        return h\n",
    "    \n",
    "    def orderd_functions(self):\n",
    "        return collections.OrderedDict([      # size: 224\n",
    "            ('conv1_1', [self.conv1_1, F.relu]),\n",
    "            ('conv1_2', [self.conv1_2, F.relu]),\n",
    "            ('pool1',     [_max_pooling_2d]),\n",
    "                                                               # size: 112\n",
    "            ('conv2_1', [self.conv2_1, F.relu]),\n",
    "            ('conv2_2', [self.conv2_2, F.relu]),\n",
    "            ('pool2',     [_max_pooling_2d]),\n",
    "                                                                # size: 56\n",
    "            ('conv3_1', [self.conv3_1, F.relu]),\n",
    "            ('conv3_2', [self.conv3_2, F.relu]),\n",
    "            ('conv3_3', [self.conv3_3, F.relu]),\n",
    "            ('pool3',     [_max_pooling_2d]),\n",
    "                                                                # size: 28\n",
    "            ('conv4_1', [self.conv4_1, F.relu]),\n",
    "            ('conv4_2', [self.conv4_2, F.relu]),\n",
    "            ('conv4_3', [self.conv4_3, F.relu]),\n",
    "            ('pool4',     [_max_pooling_2d]),\n",
    "                                                                # size: 14\n",
    "            ('conv5_1', [self.conv5_1, F.relu]),\n",
    "            ('conv5_2', [self.conv5_2, F.relu]),\n",
    "            ('conv5_3', [self.conv5_3, F.relu]),\n",
    "            ('pool5',     [_max_pooling_2d]),\n",
    "                                                                # size: 7\n",
    "            ('fc6',        [self.fc6, F.relu, F.dropout]),\n",
    "            ('fc7',        [self.fc7, F.relu, F.dropout]),\n",
    "            ('fc8',        [self.fc8]),\n",
    "            ('prob',      [F.softmax]),\n",
    "        ])\n",
    "    \n",
    "def _max_pooling_2d(x):\n",
    "    return F.max_pooling_2d(x, ksize=2)"
   ]
  },
  {
   "cell_type": "code",
   "execution_count": 3,
   "metadata": {
    "collapsed": true
   },
   "outputs": [],
   "source": [
    "vgg = VGG16()"
   ]
  },
  {
   "cell_type": "code",
   "execution_count": 4,
   "metadata": {
    "collapsed": false
   },
   "outputs": [
    {
     "name": "stdout",
     "output_type": "stream",
     "text": [
      "(1, 1000)\n"
     ]
    }
   ],
   "source": [
    "import numpy as np\n",
    "img = np.ones((1, 3, 224, 224), dtype=np.float32)\n",
    "output = vgg(img)\n",
    "print(output.shape)"
   ]
  }
 ],
 "metadata": {
  "kernelspec": {
   "display_name": "Python 3",
   "language": "python",
   "name": "python3"
  },
  "language_info": {
   "codemirror_mode": {
    "name": "ipython",
    "version": 3
   },
   "file_extension": ".py",
   "mimetype": "text/x-python",
   "name": "python",
   "nbconvert_exporter": "python",
   "pygments_lexer": "ipython3",
   "version": "3.6.0"
  }
 },
 "nbformat": 4,
 "nbformat_minor": 2
}
