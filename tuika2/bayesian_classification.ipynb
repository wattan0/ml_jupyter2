{
 "cells": [
  {
   "cell_type": "markdown",
   "metadata": {},
   "source": [
    "# ベイズ識別（識別）"
   ]
  },
  {
   "cell_type": "code",
   "execution_count": 1,
   "metadata": {
    "collapsed": true
   },
   "outputs": [],
   "source": [
    "%matplotlib inline\n",
    "import numpy as np\n",
    "import matplotlib.pyplot as plt"
   ]
  },
  {
   "cell_type": "markdown",
   "metadata": {},
   "source": [
    "## 訓練データ生成"
   ]
  },
  {
   "cell_type": "code",
   "execution_count": 2,
   "metadata": {
    "collapsed": true
   },
   "outputs": [],
   "source": [
    "x0 = np.random.normal(size=50).reshape(-1, 2) - 1.\n",
    "x1 = np.random.normal(size=50).reshape(-1, 2) + 1.\n",
    "x_train = np.concatenate([x0, x1])\n",
    "y_train = np.concatenate([np.zeros(25), np.ones(25)]).astype(np.int)"
   ]
  },
  {
   "cell_type": "code",
   "execution_count": 3,
   "metadata": {
    "collapsed": false
   },
   "outputs": [
    {
     "data": {
      "text/plain": [
       "<matplotlib.collections.PathCollection at 0x105a646a0>"
      ]
     },
     "execution_count": 3,
     "metadata": {},
     "output_type": "execute_result"
    },
    {
     "data": {
      "image/png": "[encoded data removed]",
      "text/plain": [
       "<matplotlib.figure.Figure at 0x10596da20>"
      ]
     },
     "metadata": {},
     "output_type": "display_data"
    }
   ],
   "source": [
    "plt.scatter(x_train[:, 0], x_train[:, 1], c=y_train)"
   ]
  },
  {
   "cell_type": "markdown",
   "metadata": {},
   "source": [
    "## 最大事後確率推定（MAP推定）"
   ]
  },
  {
   "cell_type": "markdown",
   "metadata": {},
   "source": [
    "### 学習"
   ]
  },
  {
   "cell_type": "markdown",
   "metadata": {},
   "source": [
    "パラメータの推定量として、事後分布が最大となるパラメータを採用する手法である。\n",
    "\n",
    "つまり、データを$X$、パラメータ$\\boldsymbol{\\theta}$に対する尤度関数を$p(X | \\boldsymbol{\\theta})$、$\\boldsymbol{\\theta}$の事前分布を$p(\\boldsymbol{\\theta})$とすると、\n",
    "\n",
    "事後確率は$p(\\boldsymbol{\\theta} | X) = \\frac{p(X | \\boldsymbol{\\theta}) p(\\boldsymbol{\\theta})}{p(X)}$であり、推定量は$\\boldsymbol{\\theta}_{MAP} = \\text{argmax}_{\\boldsymbol{\\theta}} p(\\boldsymbol{\\theta} | X)$である。"
   ]
  },
  {
   "cell_type": "markdown",
   "metadata": {},
   "source": [
    "訓練データを$X = [\\boldsymbol{x}_{1}, \\boldsymbol{x}_{2}, ..., \\boldsymbol{x}_{n}]^{\\mathrm{T}}, \\boldsymbol{y} = [y_{1}, y_{2}, ..., y_{n}]^{\\mathrm{T}} (y_{i} = \\{0, 1\\})$とする。\n",
    "\n",
    "識別モデルとしてはロジスティック回帰モデル$p(y=1 | \\boldsymbol{x}, \\boldsymbol{w}) = \\sigma (\\boldsymbol{w}^{\\mathrm{T}} \\boldsymbol{x})$を用いる。\n",
    "\n",
    "ただし、$\\sigma(\\cdot)$はシグモイド関数であり、$\\sigma(h) = \\frac{1}{1 + \\exp{(-h)}}$で定義される。また、\n",
    "\n",
    "陽には書かないが、$\\boldsymbol{x}$には定数項のための$1$という要素があることを仮定する。\n",
    "\n",
    "パラメータ$\\boldsymbol{w}$に対する尤度関数、$\\boldsymbol{w}$の事前分布を以下のように仮定する。\n",
    "\n",
    "$p(\\boldsymbol{y} | X, \\boldsymbol{w}) = \\prod_{i=1}^{n} \\sigma (\\boldsymbol{w}^{\\mathrm{T}} \\boldsymbol{x})^{y_{i}} (1 - \\sigma (\\boldsymbol{w}^{\\mathrm{T}} \\boldsymbol{x}))^{1 - y_{i}}$\n",
    "\n",
    "$p(\\boldsymbol{w}; \\alpha) = \\mathcal{N} (\\boldsymbol{w} | \\boldsymbol{0}, \\alpha^{-1}I)$\n",
    "\n",
    "ただし、$\\boldsymbol{w}=[w_{0}, w_{1}, ..., w_{d}]^{\\mathrm{T}}$であり、$\\alpha$はハイパーパラメータである。"
   ]
  },
  {
   "cell_type": "markdown",
   "metadata": {},
   "source": [
    "事後分布は$p(\\boldsymbol{w} | X, \\boldsymbol{y}; \\alpha) \\propto p(\\boldsymbol{y} | X, \\boldsymbol{w}) p(\\boldsymbol{w}; \\alpha)$なので、\n",
    "\n",
    "$\\log{p(\\boldsymbol{w} | X, \\boldsymbol{y}; \\alpha)} = \\sum_{i=1}^{n} \\left[ y_{i} \\log{p(y_{i}=1 | \\boldsymbol{x}_{i}; \\boldsymbol{w})} + (1 - y_{i}) \\log{(1 - p(y_{i}=1 | \\boldsymbol{x}_{i}; \\boldsymbol{w}))} \\right] - \\frac{\\alpha}{2} \\boldsymbol{w}^{\\mathrm{T}} \\boldsymbol{w} + const$\n",
    "\n",
    "となり、$\\boldsymbol{w}$に関して偏微分すると\n",
    "\n",
    "$\\frac{\\partial}{\\partial \\boldsymbol{w}} \\log{p(\\boldsymbol{w} | X, \\boldsymbol{y}; \\alpha)} = \\sum_{i=1}^{n} \\left( y_{i} - \\sigma(\\boldsymbol{w}^{\\mathrm{T}} \\boldsymbol{x}_{i}) ) \\right) \\boldsymbol{x}_{i} - \\alpha \\boldsymbol{w}$\n",
    "\n",
    "最急降下法（$\\boldsymbol{w} \\leftarrow \\boldsymbol{w} + \\eta \\frac{\\partial }{\\partial \\boldsymbol{w}} \\log{L(\\boldsymbol{w})}$）によってMAP推定量$\\boldsymbol{w}_{MAP}$を求める。"
   ]
  },
  {
   "cell_type": "code",
   "execution_count": 4,
   "metadata": {
    "collapsed": true
   },
   "outputs": [],
   "source": [
    "def add_one(x):\n",
    "    return np.concatenate([np.ones(len(x))[:, None], x], axis=1)\n",
    "\n",
    "def sigmoid(x):\n",
    "    return 1 / (1 + np.exp(-x))"
   ]
  },
  {
   "cell_type": "code",
   "execution_count": 5,
   "metadata": {
    "collapsed": true
   },
   "outputs": [],
   "source": [
    "X_train = add_one(x_train)\n",
    "d = X_train.shape[1]\n",
    "\n",
    "alpha = 0.01\n",
    "max_iter=100\n",
    "eta = 0.01\n",
    "w = np.zeros(d)\n",
    "for _ in range(max_iter):\n",
    "    w_prev = np.copy(w)\n",
    "    sigma = sigmoid(np.dot(X_train, w))\n",
    "    grad = np.dot(X_train.T, (y_train - sigma)) - alpha * w\n",
    "    w += eta * grad\n",
    "    if np.allclose(w, w_prev):\n",
    "        break\n",
    "        \n",
    "w_MAP = w"
   ]
  },
  {
   "cell_type": "markdown",
   "metadata": {},
   "source": [
    "### 予測"
   ]
  },
  {
   "cell_type": "markdown",
   "metadata": {},
   "source": [
    "入力に対して、$y=1$である確率は$p(y=1 | \\boldsymbol{x}; \\boldsymbol{w}_{MAP}) = \\sigma (\\boldsymbol{w}_{MAP}^{\\mathrm{T}} \\boldsymbol{x})$である。"
   ]
  },
  {
   "cell_type": "code",
   "execution_count": 6,
   "metadata": {
    "collapsed": true
   },
   "outputs": [],
   "source": [
    "xx0, xx1 = np.meshgrid(np.linspace(-5, 5, 100), np.linspace(-5, 5, 100))\n",
    "xx = np.array([xx0, xx1]).reshape(2, -1).T\n",
    "\n",
    "X_test = add_one(xx)\n",
    "proba = sigmoid(np.dot(X_test, w_MAP))"
   ]
  },
  {
   "cell_type": "code",
   "execution_count": 7,
   "metadata": {
    "collapsed": false
   },
   "outputs": [
    {
     "data": {
      "text/plain": [
       "<matplotlib.colorbar.Colorbar at 0x105b3b780>"
      ]
     },
     "execution_count": 7,
     "metadata": {},
     "output_type": "execute_result"
    },
    {
     "data": {
      "image/png": "[encoded data removed]",
      "text/plain": [
       "<matplotlib.figure.Figure at 0x105ac5ac8>"
      ]
     },
     "metadata": {},
     "output_type": "display_data"
    }
   ],
   "source": [
    "plt.scatter(x_train[:, 0], x_train[:, 1], c=y_train)\n",
    "plt.contourf(xx0, xx1, proba.reshape(100, 100), alpha=0.2, levels=np.linspace(0, 1, 5))\n",
    "plt.colorbar()"
   ]
  },
  {
   "cell_type": "markdown",
   "metadata": {},
   "source": [
    "## 予測分布"
   ]
  },
  {
   "cell_type": "markdown",
   "metadata": {},
   "source": [
    "予測分布を求める際にパラメータ$\\boldsymbol{w}$の事後分布に関して積分する必要があるが、上の場合解析的に得くことができない。\n",
    "\n",
    "そこで事後分布をラプラス近似（近似する分布のモードとその周辺の共分散を用いてガウス分布で近似）する。計算の結果、事後分布の近似は以下のようになる。\n",
    "\n",
    "$q(\\boldsymbol{w}) = \\mathcal{N} (\\boldsymbol{w} | \\boldsymbol{w}_{MAP}, S)$\n",
    "\n",
    "$S = (\\alpha I + X^{T} B X)^{-1}$\n",
    "\n",
    "ただし、$B$は要素$b_{k} = \\sigma (\\boldsymbol{w}_{MAP}^{\\mathrm{T}} \\boldsymbol{x}_{k}) (1 - \\sigma (\\boldsymbol{w}_{MAP}^{\\mathrm{T}} \\boldsymbol{x}_{k}))$をもつ対角行列である。"
   ]
  },
  {
   "cell_type": "markdown",
   "metadata": {},
   "source": [
    "さらにシグモイド関数もプロビット関数で近似することで、新しいデータ$\\boldsymbol{x}$の予測分布を計算すると以下のようになる。\n",
    "\n",
    "\\begin{eqnarray}\n",
    "p(y=1 | \\boldsymbol{x}, X, \\boldsymbol{y}; \\alpha) &=& \\int p(y=1 | \\boldsymbol{x}, \\boldsymbol{w}) p(\\boldsymbol{w} | X, \\boldsymbol{y}; \\alpha) d \\boldsymbol{w} \\\\\n",
    "&\\approx& \\sigma(\\kappa(\\sigma_{a}) \\mu_{a}) \\\\\n",
    "\\end{eqnarray}\n",
    "\n",
    "ただし、\n",
    "\\begin{eqnarray}\n",
    "\\kappa(\\sigma_{a}^{2}) &=& (1 + \\pi \\sigma_{a}^{2} / 8)^{-1/2} \\\\ \n",
    "\\mu_{a} &=& \\boldsymbol{w}_{MAP} \\boldsymbol{x} \\\\\n",
    "\\sigma_{a}^{2} &=& \\boldsymbol{x}^{\\mathrm{T}} S \\boldsymbol{x}\n",
    "\\end{eqnarray}"
   ]
  },
  {
   "cell_type": "code",
   "execution_count": 8,
   "metadata": {
    "collapsed": false
   },
   "outputs": [],
   "source": [
    "sigma = sigmoid(np.dot(X_train, w_MAP))\n",
    "B = np.diag(sigma * (1 - sigma))\n",
    "S = alpha * np.identity(d) + np.dot(X_train.T, B).dot(X_train)\n",
    "var_a = np.sum(np.dot(X_test, S) * X_test, axis=1)\n",
    "mu_a = np.dot(X_test, w_MAP)\n",
    "kappa = 1. / np.sqrt(1 + np.pi * var_a / 8)\n",
    "pred_proba = sigmoid(kappa * mu_a)"
   ]
  },
  {
   "cell_type": "code",
   "execution_count": 9,
   "metadata": {
    "collapsed": false
   },
   "outputs": [
    {
     "data": {
      "text/plain": [
       "<matplotlib.colorbar.Colorbar at 0x1075b8d30>"
      ]
     },
     "execution_count": 9,
     "metadata": {},
     "output_type": "execute_result"
    },
    {
     "data": {
      "image/png": "[encoded data removed]",
      "text/plain": [
       "<matplotlib.figure.Figure at 0x1064a3cf8>"
      ]
     },
     "metadata": {},
     "output_type": "display_data"
    }
   ],
   "source": [
    "plt.scatter(x_train[:, 0], x_train[:, 1], c=y_train)\n",
    "plt.contourf(xx0, xx1, pred_proba.reshape(100, 100), alpha=0.2, levels=np.linspace(0, 1, 5))\n",
    "plt.colorbar()"
   ]
  }
 ],
 "metadata": {
  "kernelspec": {
   "display_name": "Python 3",
   "language": "python",
   "name": "python3"
  },
  "language_info": {
   "codemirror_mode": {
    "name": "ipython",
    "version": 3
   },
   "file_extension": ".py",
   "mimetype": "text/x-python",
   "name": "python",
   "nbconvert_exporter": "python",
   "pygments_lexer": "ipython3",
   "version": "3.6.0"
  }
 },
 "nbformat": 4,
 "nbformat_minor": 2
}
