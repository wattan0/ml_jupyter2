{
 "cells": [
  {
   "cell_type": "markdown",
   "metadata": {},
   "source": [
    "# 隠れマルコフモデル（HMM）"
   ]
  },
  {
   "cell_type": "code",
   "execution_count": 1,
   "metadata": {
    "collapsed": true
   },
   "outputs": [],
   "source": [
    "%matplotlib inline\n",
    "import numpy as np\n",
    "import matplotlib.pyplot as plt"
   ]
  },
  {
   "cell_type": "markdown",
   "metadata": {},
   "source": [
    "## データ生成"
   ]
  },
  {
   "cell_type": "markdown",
   "metadata": {},
   "source": [
    "表裏の出る確率が異なる2つのコインがあり、途中でコインが入れ替わりうる状況でサンプルされた系列"
   ]
  },
  {
   "cell_type": "code",
   "execution_count": 2,
   "metadata": {
    "collapsed": false
   },
   "outputs": [],
   "source": [
    "# 系列数\n",
    "N = 100\n",
    "\n",
    "# 隠れ状態は0 or 1 (どちらのコインか)\n",
    "hidden_states = [0, 1]\n",
    "\n",
    "# 観測は0 or 1 (コインの表裏)\n",
    "observations = [0, 1]\n",
    "# 隠れ状態 i のときに観測 j を得る確率\n",
    "observation_proba = [[0.8, 0.2],\n",
    "                                 [0.2, 0.8]]\n",
    "\n",
    "# 隠れ状態の遷移確率 (コインの入れ替わる確率)\n",
    "transition_proba = [[0.9, 0.1],\n",
    "                             [0.1, 0.9]]\n",
    "\n",
    "# 初期隠れ状態\n",
    "initial_proba = [0.5, 0.5]\n",
    "hidden_state = np.random.choice(hidden_states, p=initial_proba)\n",
    "\n",
    "seq = []\n",
    "seq_hidden = []\n",
    "for i in range(N):\n",
    "    seq_hidden.append(hidden_state)\n",
    "    seq.append(np.random.choice(observations, p=observation_proba[hidden_state]))\n",
    "    hidden_state = np.random.choice(hidden_states, p=transition_proba[hidden_state])\n",
    "seq = np.array(seq)\n",
    "true_seq_hidden = np.array(seq_hidden)"
   ]
  },
  {
   "cell_type": "code",
   "execution_count": 3,
   "metadata": {
    "collapsed": false
   },
   "outputs": [
    {
     "data": {
      "text/plain": [
       "(-1, 100)"
      ]
     },
     "execution_count": 3,
     "metadata": {},
     "output_type": "execute_result"
    },
    {
     "data": {
      "image/png": "[encoded data removed]",
      "text/plain": [
       "<matplotlib.figure.Figure at 0x105ab15c0>"
      ]
     },
     "metadata": {},
     "output_type": "display_data"
    }
   ],
   "source": [
    "# 隠れ状態\n",
    "plt.plot(true_seq_hidden)\n",
    "# 観測\n",
    "for i in range(N):\n",
    "    plt.annotate(str(seq[i]), (i, 0.5 * seq[i] + 0.25))\n",
    "plt.xlim(-1, len(seq))"
   ]
  },
  {
   "cell_type": "markdown",
   "metadata": {},
   "source": [
    "### モデル"
   ]
  },
  {
   "cell_type": "markdown",
   "metadata": {},
   "source": [
    "状態遷移確率、初期状態確率、観測確率は以下である。($\\boldsymbol{z},\\boldsymbol{x}$は1-of-K表現)\n",
    "\\begin{eqnarray}\n",
    "p(\\boldsymbol{z}_{n} | \\boldsymbol{z}_{n-1}; A) &=& \\prod_{i=1}^{K} \\prod_{j=1}^{K} A_{ij}^{z_{(n-1)i} z_{nj}} \\\\\n",
    "p(\\boldsymbol{z}_{1} ; \\boldsymbol{\\pi}) &=& \\prod_{i=1}^{K} \\pi_{i}^{z_{1i}} \\\\\n",
    "p(\\boldsymbol{x}_{n} | \\boldsymbol{z}_{n}; C) &=& \\prod_{i=1}^{K} \\prod_{j=1}^{D} C_{ij}^{z_{ni} x_{nj}}\n",
    "\\end{eqnarray}"
   ]
  },
  {
   "cell_type": "markdown",
   "metadata": {},
   "source": [
    "## 学習"
   ]
  },
  {
   "cell_type": "markdown",
   "metadata": {},
   "source": [
    "パラメータを$\\boldsymbol{\\theta} = [A, C, \\boldsymbol{\\pi}]$としEMアルゴリズムによってパラメータを推定する。観測データ$X = [\\boldsymbol{x}_{1}, \\boldsymbol{x}_{2}, .., \\boldsymbol{x}_{N}]$, 潜在変数$Z = [\\boldsymbol{z}_{1}, \\boldsymbol{z}_{2}, .., \\boldsymbol{z}_{N}]$に対して対数尤度関数は以下のようになる。\n",
    "\n",
    "\\begin{eqnarray}\n",
    "\\log{p(X, Z | \\boldsymbol{\\theta})} &=& \\log{[p(\\boldsymbol{z}_{1}) \\prod_{n=2}^{N} p(\\boldsymbol{z}_{n} | \\boldsymbol{z}_{n-1}) \\prod_{n=1}^{N} p(\\boldsymbol{x}_{n} | \\boldsymbol{z}_{n})]} \\\\\n",
    "&=& \\log{p(\\boldsymbol{z}_{1}; \\boldsymbol{\\pi})} + \\sum_{n=2}^{N} \\log{p(\\boldsymbol{z}_{n} | \\boldsymbol{z}_{n-1}; A)} + \\sum_{n=1}^{N} \\log{p(\\boldsymbol{x}_{n} | \\boldsymbol{z}_{n}; C)}\n",
    "\\end{eqnarray}\n",
    "\n",
    "EMアルゴリズムでは\n",
    "1. パラメータを初期化する。\n",
    "2. 現在のパラメータでの事後分布$p(Z| X, \\boldsymbol{\\theta}^{old})$を計算する。(E step)\n",
    "3. その分布における期待対数尤度関数$\\mathbb{E}_{Z | \\boldsymbol{\\theta}^{old}} [\\log{p(X, Z | \\boldsymbol{\\theta})}]$を最大化するパラメータ$\\boldsymbol{\\theta}^{new}$を計算する。(M step)\n",
    "4. 収束すれば終了し、そうでなければ2へ戻る。"
   ]
  },
  {
   "cell_type": "markdown",
   "metadata": {},
   "source": [
    "## Eステップ"
   ]
  },
  {
   "cell_type": "markdown",
   "metadata": {},
   "source": [
    "### 前向きの推定（フィルタリング）"
   ]
  },
  {
   "cell_type": "markdown",
   "metadata": {},
   "source": [
    "フィルタリングでは、$\\alpha(\\boldsymbol{z}_{n})$という量を計算する。これは\n",
    "\n",
    "\\begin{eqnarray}\n",
    "\\alpha(\\boldsymbol{z}_{n}) = p(\\boldsymbol{x}_{1}:\\boldsymbol{x}_{n}, \\boldsymbol{z}_{n}) &=& p(\\boldsymbol{x}_{n} | \\boldsymbol{z}_{n}) p(\\boldsymbol{x}_{1}:\\boldsymbol{x}_{n-1}, \\boldsymbol{z}_{n}) \\\\\n",
    "&=& p(\\boldsymbol{x}_{n} | \\boldsymbol{z}_{n}) \\sum_{\\boldsymbol{z}_{n-1}} p(\\boldsymbol{z}_{n} | \\boldsymbol{z}_{n-1})p(\\boldsymbol{x}_{1}:\\boldsymbol{x}_{n-1}, \\boldsymbol{z}_{n-1}) \\\\\n",
    "&=& p(\\boldsymbol{x}_{n} | \\boldsymbol{z}_{n}) \\sum_{\\boldsymbol{z}_{n-1}} p(\\boldsymbol{z}_{n} | \\boldsymbol{z}_{n-1}) \\alpha(\\boldsymbol{z}_{n-1})\n",
    "\\end{eqnarray} \n",
    "\n",
    "という再帰的な式で書ける。ただし、$\\alpha(\\boldsymbol{z}_{1}) = p(\\boldsymbol{x}_{1} | \\boldsymbol{z}_{1}) p(\\boldsymbol{z}_{1})$"
   ]
  },
  {
   "cell_type": "markdown",
   "metadata": {},
   "source": [
    "### 後ろ向きの推定（スムージング）"
   ]
  },
  {
   "cell_type": "markdown",
   "metadata": {},
   "source": [
    "スムージングでは、$\\beta(\\boldsymbol{z}_{n})$という量を計算する。これも\n",
    "\n",
    "\\begin{eqnarray}\n",
    "\\beta(\\boldsymbol{z}_{n}) = p(\\boldsymbol{x}_{n+1}:\\boldsymbol{x}_{N} | \\boldsymbol{z}_{n}) &=& \\sum_{\\boldsymbol{z}_{n+1}} p(\\boldsymbol{x}_{n+2}:\\boldsymbol{x}_{N}| \\boldsymbol{z}_{n+1}) p(\\boldsymbol{x}_{n+1}| \\boldsymbol{z}_{n+1}) p(\\boldsymbol{z}_{n+1}| \\boldsymbol{z}_{n}) \\\\\n",
    "&=& \\sum_{\\boldsymbol{z}_{n+1}}\\beta(\\boldsymbol{z}_{n+1}) p(\\boldsymbol{x}_{n+1}| \\boldsymbol{z}_{n+1}) p(\\boldsymbol{z}_{n+1}| \\boldsymbol{z}_{n}) \n",
    "\\end{eqnarray}\n",
    "\n",
    "という再帰的な式で書ける。ただし、$\\beta(\\boldsymbol{z}_{N}) = 1$"
   ]
  },
  {
   "cell_type": "markdown",
   "metadata": {},
   "source": [
    "### 事後分布"
   ]
  },
  {
   "cell_type": "markdown",
   "metadata": {},
   "source": [
    "事後分布は、以下のように求められる。\n",
    "\n",
    "$\\gamma(\\boldsymbol{z}_{n}) = p(\\boldsymbol{z}_{n} | \\boldsymbol{x}_{1}:\\boldsymbol{x}_{N}) \\propto \\alpha(\\boldsymbol{z}_{n}) \\beta(\\boldsymbol{z}_{n})$\n",
    "\n",
    "$\\xi(\\boldsymbol{z}_{n-1}, \\boldsymbol{z}_{n}) = p(\\boldsymbol{z}_{n-1}, \\boldsymbol{z}_{n} | \\boldsymbol{x}_{1}:\\boldsymbol{x}_{N}) \\propto \\alpha(\\boldsymbol{z}_{n-1}) p(\\boldsymbol{z}_{n} | \\boldsymbol{z}_{n-1}) p(\\boldsymbol{x}_{n} | \\boldsymbol{z}_{n}) \\beta(\\boldsymbol{z}_{n})$"
   ]
  },
  {
   "cell_type": "markdown",
   "metadata": {},
   "source": [
    "## Mステップ"
   ]
  },
  {
   "cell_type": "markdown",
   "metadata": {},
   "source": [
    "ステップ3では、$z$が離散値(0, 1)であることや$\\boldsymbol{\\pi}, A_{i}, C_{i}$が確率値であることを考慮して最大化を行う。\n",
    "\n",
    "$\\gamma_{nj} = \\gamma(z_{nj} = 1), \\xi_{nij} = \\xi(z_{n-1i} = 1, z_{nj} = 1)$とすると、計算される新しいパラメータは以下のようになる。\n",
    "\n",
    "\\begin{eqnarray}\n",
    "\\pi_{j} &=& \\frac{\\gamma_{1j}}{\\sum_{k=1}^{K} \\gamma_{1k}} \\\\\n",
    "A_{ij} &=& \\frac{\\sum_{n=2}^{N} \\xi_{nij}}{\\sum_{k=1}^{K} \\sum_{n=2}^{N} \\xi_{nik}} \\\\\n",
    "C_{ij} &=& \\frac{\\sum_{n=1}^{N} \\gamma_{ni} x_{nj}}{\\sum_{n=1}^{N} \\gamma_{ni}} \\\\\n",
    "\\end{eqnarray}"
   ]
  },
  {
   "cell_type": "code",
   "execution_count": 4,
   "metadata": {
    "collapsed": false
   },
   "outputs": [],
   "source": [
    "n_hidden = 2\n",
    "\n",
    "# パラメータ初期化\n",
    "pi = np.array([0.5, 0.5])\n",
    "A = np.array([[0.8, 0.2],\n",
    "                    [0.2, 0.8]])\n",
    "C = np.array([[0.7, 0.3],\n",
    "                    [0.3, 0.7]])\n",
    "\n",
    "params = [pi, A, C]\n",
    "\n",
    "def expectation(seq, params):\n",
    "    pi, A, C = params\n",
    "    # likelihood = p(x | z)\n",
    "    likelihood = C[seq]\n",
    "    \n",
    "    # forward\n",
    "    f = likelihood[0] * pi\n",
    "    constant = [f.sum()]\n",
    "    alpha = [f / f.sum()]\n",
    "    for like in likelihood[1:]:\n",
    "        f = like * np.dot(alpha[-1], A)\n",
    "        constant.append(f.sum())\n",
    "        alpha.append(f / f.sum())\n",
    "    alpha = np.asarray(alpha)\n",
    "    \n",
    "    # backward\n",
    "    beta = np.zeros((N, n_hidden))\n",
    "    beta[-1] = [1, 1]\n",
    "    for n in reversed(range(N-1)):\n",
    "        beta[n] = np.dot(A, (likelihood[n+1] * beta[n+1])) / constant[n+1]\n",
    "    \n",
    "    # posterior\n",
    "    gamma = alpha * beta\n",
    "    xi = alpha[:-1, :, None] * A * likelihood[1:, None, :] * beta[1:, None, :]\n",
    "    return gamma, xi\n",
    "\n",
    "def maximization(seq, gamma, xi):\n",
    "    pi = gamma[0] / np.sum(gamma[0])\n",
    "    A = np.sum(xi, axis=0) / np.sum(xi, axis=(0, 2))\n",
    "    x = gamma[:, :, None] * (np.eye(n_hidden)[seq])[:, None, :]\n",
    "    C = np.sum(x, axis=0) / np.sum(gamma, axis=0)[:, None]\n",
    "    return [pi, A, C]"
   ]
  },
  {
   "cell_type": "code",
   "execution_count": 5,
   "metadata": {
    "collapsed": false
   },
   "outputs": [],
   "source": [
    "iter_max = 10000\n",
    "\n",
    "prev_params = np.hstack([p.ravel() for p in params])\n",
    "for i in range(iter_max):\n",
    "    gamma, xi = expectation(seq, params)\n",
    "    params = maximization(seq, gamma, xi)\n",
    "    \n",
    "    new_params = np.hstack([p.ravel() for p in params])\n",
    "    if np.allclose(prev_params - new_params, 0):\n",
    "        break\n",
    "    else:\n",
    "        prev_params = new_params"
   ]
  },
  {
   "cell_type": "markdown",
   "metadata": {},
   "source": [
    "## 学習結果"
   ]
  },
  {
   "cell_type": "code",
   "execution_count": 6,
   "metadata": {
    "collapsed": false
   },
   "outputs": [],
   "source": [
    "posterior, _ = expectation(seq, params)"
   ]
  },
  {
   "cell_type": "code",
   "execution_count": 7,
   "metadata": {
    "collapsed": false
   },
   "outputs": [
    {
     "data": {
      "text/plain": [
       "<matplotlib.legend.Legend at 0x105d00be0>"
      ]
     },
     "execution_count": 7,
     "metadata": {},
     "output_type": "execute_result"
    },
    {
     "data": {
      "image/png": "[encoded data removed]",
      "text/plain": [
       "<matplotlib.figure.Figure at 0x105ab14e0>"
      ]
     },
     "metadata": {},
     "output_type": "display_data"
    }
   ],
   "source": [
    "# 隠れ状態\n",
    "plt.plot(true_seq_hidden, label='true')\n",
    "plt.plot(posterior[:, 1], label='posterior')\n",
    "# 観測\n",
    "for i in range(N):\n",
    "    plt.annotate(str(seq[i]), (i, 0.5 * seq[i] + 0.25))\n",
    "plt.xlim(-1, len(seq))\n",
    "plt.legend(loc='upper right')"
   ]
  }
 ],
 "metadata": {
  "kernelspec": {
   "display_name": "Python 3",
   "language": "python",
   "name": "python3"
  },
  "language_info": {
   "codemirror_mode": {
    "name": "ipython",
    "version": 3
   },
   "file_extension": ".py",
   "mimetype": "text/x-python",
   "name": "python",
   "nbconvert_exporter": "python",
   "pygments_lexer": "ipython3",
   "version": "3.6.0"
  }
 },
 "nbformat": 4,
 "nbformat_minor": 2
}
