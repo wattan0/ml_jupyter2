{
 "cells": [
  {
   "cell_type": "markdown",
   "metadata": {},
   "source": [
    "# ガウス過程回帰"
   ]
  },
  {
   "cell_type": "code",
   "execution_count": 1,
   "metadata": {
    "collapsed": true
   },
   "outputs": [],
   "source": [
    "%matplotlib inline\n",
    "import numpy as np\n",
    "import matplotlib.pyplot as plt"
   ]
  },
  {
   "cell_type": "markdown",
   "metadata": {},
   "source": [
    "## 訓練データ生成"
   ]
  },
  {
   "cell_type": "code",
   "execution_count": 2,
   "metadata": {
    "collapsed": false
   },
   "outputs": [],
   "source": [
    "x = np.linspace(0, .7, 7)\n",
    "y = np.sin(2 * np.pi * x) + np.random.normal(scale=0.25, size=x.shape)\n",
    "x_train = x\n",
    "y_train = y"
   ]
  },
  {
   "cell_type": "code",
   "execution_count": 3,
   "metadata": {
    "collapsed": true
   },
   "outputs": [],
   "source": [
    "# 真値\n",
    "xx = np.linspace(0, 1, 100)\n",
    "y_true = np.sin(2 * np.pi * xx)"
   ]
  },
  {
   "cell_type": "code",
   "execution_count": 4,
   "metadata": {
    "collapsed": false
   },
   "outputs": [
    {
     "data": {
      "text/plain": [
       "<matplotlib.legend.Legend at 0x112430f60>"
      ]
     },
     "execution_count": 4,
     "metadata": {},
     "output_type": "execute_result"
    },
    {
     "data": {
      "image/png": "[encoded data removed]",
      "text/plain": [
       "<matplotlib.figure.Figure at 0x112339ac8>"
      ]
     },
     "metadata": {},
     "output_type": "display_data"
    }
   ],
   "source": [
    "plt.scatter(x_train, y_train,facecolor=\"none\", edgecolor=\"b\", s=50,  label=\"training data\")\n",
    "plt.plot(xx, y_true, label=\"$\\sin(2\\pi x)$\")\n",
    "plt.legend()"
   ]
  },
  {
   "cell_type": "markdown",
   "metadata": {},
   "source": [
    "## 学習"
   ]
  },
  {
   "cell_type": "markdown",
   "metadata": {},
   "source": [
    "線形回帰モデル$y(x) = \\boldsymbol{w}^{\\mathrm{T}} \\boldsymbol{\\phi(x)}$において、重み係数$\\boldsymbol{w}$の分布が中心$\\boldsymbol{0}$のガウス分布に従うとき、$y$も1次元ガウス分布に従い、$\\boldsymbol{y} = \\Phi \\boldsymbol{w}$は多次元ガウス分布に従う。\n",
    "\n",
    "$\\mathbb{E}[\\boldsymbol{y}] = \\boldsymbol{0}$, $\\mathbb{E}[\\boldsymbol{y} \\boldsymbol{y}^{\\mathrm{T}}] = K$\n",
    "\n",
    "より、$\\boldsymbol{y}$の同時分布は$p(\\boldsymbol{y}) = \\mathcal{N}(\\boldsymbol{y} | \\boldsymbol{0}, K)$となる。ただし、$K$はグラム行列であり、各要素はカーネル関数の値である($K_{ij} = k(x_{i}, x_{j})$)。\n",
    "\n",
    "観測値$\\boldsymbol{t} = [t_{1}, t_{2}, ..., t_{N}]^{\\mathrm{T}}$にはノイズが加わると仮定すると、$p(\\boldsymbol{t} | \\boldsymbol{y}) = \\mathcal{N}(\\boldsymbol{t} | \\boldsymbol{y}, \\beta^{-1} I_{N})$と書ける。ただし、$\\beta$は精度パラメータである。\n",
    "\n",
    "周辺化により$\\boldsymbol{t}$の同時分布は以下のように求まる。\n",
    "\n",
    "$p(\\boldsymbol{t}) = \\int p(\\boldsymbol{t} | \\boldsymbol{y}) p(\\boldsymbol{y}) d \\boldsymbol{y} = \\mathcal{N}(\\boldsymbol{t} | \\boldsymbol{0}, C_{N})$\n",
    "\n",
    "ただし、$C_{N} = \\beta^{-1} I_{N} + K$である。"
   ]
  },
  {
   "cell_type": "markdown",
   "metadata": {},
   "source": [
    "共分散行列$C_{N}$がパラメータ$\\boldsymbol{\\theta}$に依存するとき、対数尤度関数は、\n",
    "\n",
    "$\\ln p(\\boldsymbol{t} | \\boldsymbol{\\theta}) = -\\frac{1}{2} \\ln{|C_{N}|} - \\frac{1}{2} \\boldsymbol{t}^{\\mathrm{T}} C_{N}^{-1} \\boldsymbol{t} - \\frac{N}{2} \\ln{2 \\pi}$\n",
    "\n",
    "となり、パラメータ$\\theta_{i}$による偏微分は、以下のように表される。\n",
    "\n",
    "$\\frac{\\partial}{\\partial \\theta_{i}} \\ln{p(\\boldsymbol{t} | \\boldsymbol{\\theta})} = -\\frac{1}{2} \\text{Tr}(C_{N}^{-1} \\frac{\\partial C_{N}}{\\partial  \\theta_{i}}) + \\frac{1}{2} \\boldsymbol{t}^{\\mathrm{T}} C_{N}^{-1} \\frac{\\partial C_{N}}{\\partial \\theta_{i}} C_{N}^{-1} \\boldsymbol{t}$\n",
    "\n",
    "カーネル関数を$k(x, x') = a \\exp{-b (x - x')^{2}}$とする"
   ]
  },
  {
   "cell_type": "markdown",
   "metadata": {},
   "source": [
    "以下では、カーネル関数を$k(x, x') = a \\exp{(-b (x - x')^{2})}$とし、\n",
    "\n",
    "$\\frac{\\partial k}{\\partial a} = \\exp{(-b (x - x')^{2})}$\n",
    "\n",
    "$\\frac{\\partial k}{\\partial b} = -a (x - x')^{2}\\exp{(-b (x - x')^{2})}$\n",
    "\n",
    "であることを利用して、最急降下法でパラメータ$a, b$を最適化する。"
   ]
  },
  {
   "cell_type": "code",
   "execution_count": 5,
   "metadata": {
    "collapsed": false
   },
   "outputs": [],
   "source": [
    "def rbf_kernel(x, X, a, b):\n",
    "    return a * np.exp(-b * (x - X)**2)\n",
    "\n",
    "def build_kernel_matrix(X1, X2, a, b):\n",
    "    K = np.zeros((len(X1), len(X2)))\n",
    "    for i in range(len(X1)):\n",
    "        K[i] = rbf_kernel(X1[i], X2, a, b)\n",
    "    return K\n",
    "\n",
    "def gram_derivatives(X, Gram, a, b):\n",
    "    derivative_a = Gram / a    \n",
    "    derivative_b = -Gram\n",
    "    for i in range(len(X)):\n",
    "        derivative_b[i] =  derivative_b[i] * (X[i] - X)**2\n",
    "    return derivative_a, derivative_b"
   ]
  },
  {
   "cell_type": "code",
   "execution_count": 6,
   "metadata": {
    "collapsed": false
   },
   "outputs": [],
   "source": [
    "X = x_train\n",
    "t = y_train\n",
    "\n",
    "# 初期値\n",
    "a = 1.\n",
    "b = 1.\n",
    "beta = 100\n",
    "\n",
    "iter_max = 1000\n",
    "learning_rate = 0.01\n",
    "\n",
    "I = np.eye(len(X))\n",
    "for i in range(iter_max):\n",
    "    Gram = build_kernel_matrix(X, X, a, b)\n",
    "    CN = I / beta + Gram\n",
    "    CN_inv = np.linalg.inv(CN)\n",
    "\n",
    "    gradients = gram_derivatives(X, Gram, a, b)\n",
    "    update_a, update_b = [-0.5 * np.trace(CN_inv.dot(grad)) + 0.5 * t.dot(CN_inv.dot(grad).dot(CN_inv).dot(t)) for grad in gradients]\n",
    "    a += learning_rate * update_a\n",
    "    b += learning_rate * update_b\n",
    "    \n",
    "    if np.allclose(np.abs(update_a) + np.abs(update_b), 0):\n",
    "        break"
   ]
  },
  {
   "cell_type": "markdown",
   "metadata": {},
   "source": [
    "## 予測"
   ]
  },
  {
   "cell_type": "markdown",
   "metadata": {},
   "source": [
    "$p(\\boldsymbol{t}_{N+1}) = \\mathcal{N}(\\boldsymbol{t}_{N+1} | \\boldsymbol{0}, C_{N})$であり、\n",
    "\n",
    "\\begin{eqnarray}\n",
    "C_{N+1} = \\left( \n",
    "\\begin{array}{cc}\n",
    "C_{N}, \\boldsymbol{k}\\\\\n",
    "\\boldsymbol{k}^{\\mathrm{T}}, c\n",
    "\\end{array}\n",
    "\\right)\n",
    "\\end{eqnarray}\n",
    "\n",
    "ただし、$\\boldsymbol{k}$は要素$k(x_{n}, x_{N+1}) (n = 1, 2, ..., N)$を持つベクトルであり、$c=k(x_{N+1}, x_{N+1}) + \\beta^{-1}$とする。\n",
    "\n",
    "ここから条件付き分布$p(t_{N+1} | \\boldsymbol{t}_{N})$は平均$m(x_{N+1}) = \\boldsymbol{k}^{\\mathrm{T}} C_{N}^{-1} \\boldsymbol{t}$と分散$\\sigma^{2}(x_{N+1}) = c - \\boldsymbol{k}^{\\mathrm{T}} C_{N}^{-1} \\boldsymbol{k}$を持つようなガウス分布になる。"
   ]
  },
  {
   "cell_type": "code",
   "execution_count": 7,
   "metadata": {
    "collapsed": false
   },
   "outputs": [],
   "source": [
    "K = build_kernel_matrix(xx,  X, a, b)\n",
    "mean = np.dot(K, CN_inv.dot(t))\n",
    "c = 1 / beta + a\n",
    "var = c - np.sum(np.dot(K, CN_inv) * K, axis=1)"
   ]
  },
  {
   "cell_type": "code",
   "execution_count": 8,
   "metadata": {
    "collapsed": false
   },
   "outputs": [
    {
     "data": {
      "image/png": "[encoded data removed]",
      "text/plain": [
       "<matplotlib.figure.Figure at 0x112f31be0>"
      ]
     },
     "metadata": {},
     "output_type": "display_data"
    }
   ],
   "source": [
    "plt.scatter(x_train, y_train, facecolor=\"none\", edgecolor=\"b\", s=50, label=\"training data\")\n",
    "plt.plot(xx, y_true, label=\"$\\sin(2\\pi x)$\")\n",
    "plt.plot(xx, mean, label=\"prediction\")\n",
    "plt.fill_between(xx, mean-np.sqrt(var), mean+np.sqrt(var), alpha=0.2, color='orange')\n",
    "plt.legend()\n",
    "plt.show()"
   ]
  }
 ],
 "metadata": {
  "kernelspec": {
   "display_name": "Python 3",
   "language": "python",
   "name": "python3"
  },
  "language_info": {
   "codemirror_mode": {
    "name": "ipython",
    "version": 3
   },
   "file_extension": ".py",
   "mimetype": "text/x-python",
   "name": "python",
   "nbconvert_exporter": "python",
   "pygments_lexer": "ipython3",
   "version": "3.6.0"
  }
 },
 "nbformat": 4,
 "nbformat_minor": 2
}
