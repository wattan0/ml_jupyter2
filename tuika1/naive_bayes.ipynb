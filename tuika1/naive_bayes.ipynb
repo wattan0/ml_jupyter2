{
 "cells": [
  {
   "cell_type": "markdown",
   "metadata": {},
   "source": [
    "# ナイーブベイズ"
   ]
  },
  {
   "cell_type": "code",
   "execution_count": 1,
   "metadata": {
    "collapsed": true
   },
   "outputs": [],
   "source": [
    "%matplotlib inline\n",
    "import numpy as np\n",
    "import matplotlib.pyplot as plt"
   ]
  },
  {
   "cell_type": "markdown",
   "metadata": {},
   "source": [
    "## 訓練データ生成"
   ]
  },
  {
   "cell_type": "code",
   "execution_count": 2,
   "metadata": {
    "collapsed": true
   },
   "outputs": [],
   "source": [
    "x0 = np.random.normal(size=50).reshape(-1, 2) - 2\n",
    "x1 = np.random.normal(size=50).reshape(-1, 2) + 2\n",
    "x_train = np.concatenate([x0, x1])\n",
    "y_train = np.concatenate([np.zeros(25), np.ones(25)]).astype(np.int)"
   ]
  },
  {
   "cell_type": "code",
   "execution_count": 3,
   "metadata": {
    "collapsed": false
   },
   "outputs": [
    {
     "data": {
      "text/plain": [
       "<matplotlib.collections.PathCollection at 0x112b8a6d8>"
      ]
     },
     "execution_count": 3,
     "metadata": {},
     "output_type": "execute_result"
    },
    {
     "data": {
      "image/png": "[encoded data removed]",
      "text/plain": [
       "<matplotlib.figure.Figure at 0x112a8b978>"
      ]
     },
     "metadata": {},
     "output_type": "display_data"
    }
   ],
   "source": [
    "plt.scatter(x_train[:, 0], x_train[:, 1], c=y_train)"
   ]
  },
  {
   "cell_type": "markdown",
   "metadata": {},
   "source": [
    "## 学習"
   ]
  },
  {
   "cell_type": "markdown",
   "metadata": {},
   "source": [
    "ナイーブベイズでは、データ点$\\boldsymbol{x} = (x_{1}, x_{2}, ..., x_{d})$の各特徴（次元）が互いに独立であることを仮定する。\n",
    "\n",
    "すると、ラベル$y$の条件付き確率はベイズの定理を用いて、\n",
    "\n",
    "$p(y | \\boldsymbol{x}) = \\frac{p(y) p(\\boldsymbol{x} | y)}{p(\\boldsymbol{x})} = \\frac{p(y) \\prod_{j=1}^{d} p(x_{j} | y)}{p(\\boldsymbol{x})}$\n",
    "\n",
    "$p(\\boldsymbol{x})$は入力に対して定数なので、$p(y | \\boldsymbol{x})  \\propto p(y) \\prod_{j=1}^{d} p(x_{j} | y)$。\n",
    "\n",
    "よって訓練データ$X = [x_{1}, x_{2}, ..., x_{n}]^{\\mathrm{T}}, \\boldsymbol{y} = [y_{1}, y_{2}, ..., y_{n}]^{\\mathrm{T}}$に対して最大化する目的関数は、\n",
    "\n",
    "$L = \\prod_{i=1}^{n} \\left( p(y_{i}) \\prod_{j=1}^{d} p(x_{ij} | y_{i}) \\right)$\n",
    "\n",
    "である。対数をとると、$\\log{L} = \\sum_{i=1}^{n} \\left( \\log{p(y_{i})}  + \\sum_{j=1}^{d} \\log{p(x_{ij} | y_{i})} \\right)$\n",
    "\n",
    "上のデータに対して、クラス$y$の事前分布$p(y_{i})$を一様分布、$p(x_{j} | y) = \\mathcal{N} (x_{j} | \\mu_{y}, \\sigma^{2}) $とすると、最大化するのは、（パラメータに依存しない項を無視すると）以下の関数である。\n",
    "\n",
    "$f(\\boldsymbol{\\mu}, \\boldsymbol{\\sigma}) = \\sum_{i=1}^{n} \\sum_{j=1}^{d} ( -\\log{\\sigma_{y_i}} - \\frac{(x_{ij} - \\mu_{y_i})^{2}}{2\\sigma_{y_i}^{2}} )$\n",
    "\n",
    "$\\frac{\\partial f}{\\partial \\mu_{k}} = \\sum_{i=1}^{n} \\sum_{j=1}^{d} \\frac{(x_{ij} - \\mu_{k})}{\\sigma_{k}^{2}} \\cdot \\delta(y_{i} = k) = 0$\n",
    "\n",
    "$\\frac{\\partial f}{\\partial \\sigma_{k}} = \\sum_{i=1}^{n} \\sum_{j=1}^{d} (- \\frac{1}{\\sigma_{k}} + \\frac{(x_{ij} - \\mu_{y_i})^{2}}{\\sigma_{k}^{3}}) \\cdot \\delta(y_{i} = k) = 0$\n",
    "\n",
    "よって、$\\mu_{k} = \\frac{1}{N_{k} d} \\sum_{i=1}^{n} \\sum_{j=1}^{d} x_{ij} \\delta(y_{i} = k)$, $\\sigma_{k}^{2} = \\frac{1}{N_{k} d} \\sum_{i=1}^{n} \\sum_{j=1}^{d} (x_{ij} - \\mu_{y_i})^{2} \\delta(y_{i} = k)$である。"
   ]
  },
  {
   "cell_type": "code",
   "execution_count": 4,
   "metadata": {
    "collapsed": false
   },
   "outputs": [],
   "source": [
    "X_train = x_train\n",
    "labels = list(set(y_train))\n",
    "\n",
    "mu = {}\n",
    "var = {}\n",
    "for label in labels:\n",
    "    index = y_train == label\n",
    "    mu[label] = np.mean(X_train[index])\n",
    "    var[label] = np.var(X_train[index])"
   ]
  },
  {
   "cell_type": "markdown",
   "metadata": {},
   "source": [
    "## 予測"
   ]
  },
  {
   "cell_type": "markdown",
   "metadata": {},
   "source": [
    "$p(y | \\boldsymbol{x})  \\propto p(y) \\prod_{j=1}^{d} p(x_{j} | y)$なので、入力に対して$\\log{p(y)} + \\sum_{j=1}^{d} \\log{p(x_{j} | y)}$が最大となるラベル$y$を割り当てればよい。"
   ]
  },
  {
   "cell_type": "code",
   "execution_count": 5,
   "metadata": {
    "collapsed": true
   },
   "outputs": [],
   "source": [
    "xx0, xx1 = np.meshgrid(np.linspace(-5, 5, 100), np.linspace(-5, 5, 100))\n",
    "xx = np.array([xx0, xx1]).reshape(2, -1).T"
   ]
  },
  {
   "cell_type": "code",
   "execution_count": 6,
   "metadata": {
    "collapsed": false
   },
   "outputs": [],
   "source": [
    "def log_gauss(x, mu, var):\n",
    "    # 定数は無視\n",
    "    return -np.log(var) - 0.5 * np.sum((x - mu)**2) / var\n",
    "\n",
    "y_pred = np.empty(len(xx), dtype=y_train.dtype)\n",
    "p = np.zeros(len(labels))\n",
    "for i, x in enumerate(xx):\n",
    "    for j, label in enumerate(labels):\n",
    "        p[j] = log_gauss(x, mu[label], var[label])\n",
    "    y_pred[i] = labels[np.argmax(p)]"
   ]
  },
  {
   "cell_type": "code",
   "execution_count": 7,
   "metadata": {
    "collapsed": false
   },
   "outputs": [
    {
     "data": {
      "text/plain": [
       "<matplotlib.contour.QuadContourSet at 0x112a586d8>"
      ]
     },
     "execution_count": 7,
     "metadata": {},
     "output_type": "execute_result"
    },
    {
     "data": {
      "image/png": "[encoded data removed]",
      "text/plain": [
       "<matplotlib.figure.Figure at 0x112b4a550>"
      ]
     },
     "metadata": {},
     "output_type": "display_data"
    }
   ],
   "source": [
    "plt.scatter(x_train[:, 0], x_train[:, 1], c=y_train)\n",
    "plt.contourf(xx0, xx1, y_pred.reshape(100, 100), alpha=0.2)"
   ]
  }
 ],
 "metadata": {
  "kernelspec": {
   "display_name": "Python 3",
   "language": "python",
   "name": "python3"
  },
  "language_info": {
   "codemirror_mode": {
    "name": "ipython",
    "version": 3
   },
   "file_extension": ".py",
   "mimetype": "text/x-python",
   "name": "python",
   "nbconvert_exporter": "python",
   "pygments_lexer": "ipython3",
   "version": "3.6.0"
  }
 },
 "nbformat": 4,
 "nbformat_minor": 2
}
