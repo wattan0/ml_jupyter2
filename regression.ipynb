{
 "cells": [
  {
   "cell_type": "markdown",
   "metadata": {},
   "source": [
    "# 回帰分析"
   ]
  },
  {
   "cell_type": "code",
   "execution_count": 1,
   "metadata": {
    "collapsed": true
   },
   "outputs": [],
   "source": [
    "%matplotlib inline\n",
    "import numpy as np\n",
    "import matplotlib.pyplot as plt"
   ]
  },
  {
   "cell_type": "markdown",
   "metadata": {},
   "source": [
    "# 単回帰"
   ]
  },
  {
   "cell_type": "markdown",
   "metadata": {},
   "source": [
    "## 訓練データ生成"
   ]
  },
  {
   "cell_type": "code",
   "execution_count": 2,
   "metadata": {
    "collapsed": false
   },
   "outputs": [],
   "source": [
    "x = np.linspace(0, 1, 10)\n",
    "y_true = 2 * x + 5\n",
    "y = y_true + np.random.normal(scale=.2, size=y_true.shape)\n",
    "x_train = x\n",
    "y_train = y"
   ]
  },
  {
   "cell_type": "code",
   "execution_count": 3,
   "metadata": {
    "collapsed": false
   },
   "outputs": [
    {
     "data": {
      "text/plain": [
       "<matplotlib.legend.Legend at 0x104a97e10>"
      ]
     },
     "execution_count": 3,
     "metadata": {},
     "output_type": "execute_result"
    },
    {
     "data": {
      "image/png": "[encoded data removed]",
      "text/plain": [
       "<matplotlib.figure.Figure at 0x1049a6ac8>"
      ]
     },
     "metadata": {},
     "output_type": "display_data"
    }
   ],
   "source": [
    "plt.scatter(x_train, y_train, facecolor=\"none\", edgecolor=\"b\", s=50,  label=\"training data\")\n",
    "plt.plot(x, y_true, label=\"$2 x + 5$\")\n",
    "plt.legend()"
   ]
  },
  {
   "cell_type": "markdown",
   "metadata": {},
   "source": [
    "## 学習"
   ]
  },
  {
   "cell_type": "markdown",
   "metadata": {},
   "source": [
    "１次関数$y(x) = a x + b$における、$a$と$b$を求める。\n",
    "\n",
    "訓練データ$X = [x_{1}, x_{2}, ..., x_{n}]^{\\mathrm{T}}, \\boldsymbol{y} = [y_{1}, y_{2}, ..., y_{n}]^{\\mathrm{T}}$に対して、最小化する目的関数は$L = \\sum_{i=1}^{n} \\left( y_{i} - (a x_{i} + b) \\right)^2$と書け、\n",
    "\n",
    "$\\frac{\\partial L}{\\partial a} = -2\\sum_{i=1}^{n} \\left( y_{i} - (a x_{i} + b) \\right) x_{i} = 0$\n",
    "\n",
    "$\\frac{\\partial L}{\\partial b} = -2\\sum_{i=1}^{n} \\left( y_{i} - (a x_{i} + b) \\right) = 0 \\cdots (1)$\n",
    "\n",
    "より、目的関数を最小にする$a, b$は以下のように求まる。\n",
    "\n",
    "\\begin{eqnarray}\n",
    "\\left( \n",
    "\\begin{array}{cc}\n",
    "\\sum_{i=1}^{n} x_{i}^{2} & \\sum_{i=1}^{n} x_{i} \\\\\n",
    "\\sum_{i=1}^{n} x_{i} & n\n",
    "\\end{array}\n",
    "\\right)\n",
    "\\left( \n",
    "\\begin{array}{cc}\n",
    "\\hat{a} \\\\\n",
    "\\hat{b}  \n",
    "\\end{array}\n",
    "\\right)\n",
    "&=&\n",
    "\\left( \n",
    "\\begin{array}{cc}\n",
    "\\sum_{i=1}^{n} x_{i} y_{i} \\\\\n",
    "\\sum_{i=1}^{n} y_{i}  \n",
    "\\end{array}\n",
    "\\right) \\\\ \n",
    "\\left( \n",
    "\\begin{array}{cc}\n",
    "\\hat{a} \\\\\n",
    "\\hat{b}  \n",
    "\\end{array}\n",
    "\\right)\n",
    "&=&\n",
    "\\frac{1}{n \\sum_{i=1}^{n} x_{i}^{2} - (\\sum_{i=1}^{n} x_{i})^{2}}\n",
    "\\left( \n",
    "\\begin{array}{cc}\n",
    "n & -\\sum_{i=1}^{n} x_{i} \\\\\n",
    "-\\sum_{i=1}^{n} x_{i} & \\sum_{i=1}^{n} x_{i}^{2}\n",
    "\\end{array}\n",
    "\\right)\n",
    "\\left( \n",
    "\\begin{array}{cc}\n",
    "\\sum_{i=1}^{n} x_{i} y_{i} \\\\\n",
    "\\sum_{i=1}^{n} y_{i}  \n",
    "\\end{array}\n",
    "\\right) \\\\\n",
    "&=&\n",
    "\\frac{1}{n \\sum_{i=1}^{n} x_{i}^{2} - (\\sum_{i=1}^{n} x_{i})^{2}}\n",
    "\\left( \n",
    "\\begin{array}{cc}\n",
    "n \\sum_{i=1}^{n} x_{i} y_{i} - \\sum_{i=1}^{n} x_{i} \\sum_{i=1}^{n} y_{i}\\\\\n",
    "\\sum_{i=1}^{n} x_{i}^{2} \\sum_{i=1}^{n} y_{i} -\\sum_{i=1}^{n} x_{i} \\sum_{i=1}^{n} x_{i} y_{i}\n",
    "\\end{array}\n",
    "\\right) \\cdots (2)\n",
    "\\end{eqnarray}\n",
    "\n",
    "(1), (2)から$\\hat{a} = \\text{Cov}[x, y] / \\text{Var}[x], \\hat{b} = \\mu_{y} - \\hat{a} \\mu_{x}$で求める。"
   ]
  },
  {
   "cell_type": "code",
   "execution_count": 4,
   "metadata": {
    "collapsed": false
   },
   "outputs": [],
   "source": [
    "cov = np.cov(x_train, y_train, ddof=0)\n",
    "a = cov[0, 1] / cov[0, 0]\n",
    "b = np.mean(y_train) - a * np.mean(x_train)"
   ]
  },
  {
   "cell_type": "markdown",
   "metadata": {},
   "source": [
    "## 予測"
   ]
  },
  {
   "cell_type": "markdown",
   "metadata": {},
   "source": [
    "入力に対する値を$y(x) = a x + b$で予測する"
   ]
  },
  {
   "cell_type": "code",
   "execution_count": 5,
   "metadata": {
    "collapsed": false
   },
   "outputs": [
    {
     "data": {
      "image/png": "[encoded data removed]",
      "text/plain": [
       "<matplotlib.figure.Figure at 0x10559b940>"
      ]
     },
     "metadata": {},
     "output_type": "display_data"
    }
   ],
   "source": [
    "y_pred = a * x + b\n",
    "\n",
    "plt.scatter(x_train, y_train, facecolor=\"none\", edgecolor=\"b\", s=50, label=\"training data\")\n",
    "plt.plot(x, y_true, label=\"$2 x + 5$\")\n",
    "plt.plot(x, y_pred, label=\"prediction (a={:.2}, b={:.2})\".format(a, b))\n",
    "plt.legend()\n",
    "plt.show()"
   ]
  },
  {
   "cell_type": "markdown",
   "metadata": {},
   "source": [
    "# 多項式回帰"
   ]
  },
  {
   "cell_type": "markdown",
   "metadata": {},
   "source": [
    "## 訓練データ生成"
   ]
  },
  {
   "cell_type": "code",
   "execution_count": 6,
   "metadata": {
    "collapsed": false
   },
   "outputs": [],
   "source": [
    "x = np.linspace(0, 1, 10)\n",
    "y = np.sin(2 * np.pi * x) + np.random.normal(scale=0.25, size=x.shape)\n",
    "x_train = x\n",
    "y_train = y"
   ]
  },
  {
   "cell_type": "code",
   "execution_count": 7,
   "metadata": {
    "collapsed": true
   },
   "outputs": [],
   "source": [
    "# 真値\n",
    "xx = np.linspace(0, 1, 100)\n",
    "y_true = np.sin(2 * np.pi * xx)"
   ]
  },
  {
   "cell_type": "code",
   "execution_count": 8,
   "metadata": {
    "collapsed": false
   },
   "outputs": [
    {
     "data": {
      "text/plain": [
       "<matplotlib.legend.Legend at 0x10604ceb8>"
      ]
     },
     "execution_count": 8,
     "metadata": {},
     "output_type": "execute_result"
    },
    {
     "data": {
      "image/png": "[encoded data removed]",
      "text/plain": [
       "<matplotlib.figure.Figure at 0x105ebe550>"
      ]
     },
     "metadata": {},
     "output_type": "display_data"
    }
   ],
   "source": [
    "plt.scatter(x_train, y_train,facecolor=\"none\", edgecolor=\"b\", s=50,  label=\"training data\")\n",
    "plt.plot(xx, y_true, label=\"$\\sin(2\\pi x)$\")\n",
    "plt.legend()"
   ]
  },
  {
   "cell_type": "markdown",
   "metadata": {},
   "source": [
    "## 学習"
   ]
  },
  {
   "cell_type": "markdown",
   "metadata": {},
   "source": [
    "モデルとして以下を用いる。\n",
    "\n",
    "$y(x) = \\sum_{i=0}^{d} w_{i} x^{i} = \\boldsymbol{w}^{\\mathrm{T}} \\boldsymbol{\\phi(x)}$\n",
    "\n",
    "ただし、$\\boldsymbol{w}=[w_{0}, w_{1}, ..., w_{d}]^{\\mathrm{T}}, \\boldsymbol{\\phi(x)} = [1, x, x^{2}, ..., x^{d}]^{\\mathrm{T}}$である。\n",
    "\n",
    "訓練データ$X, \\boldsymbol{y}$に対しては\n",
    "$\\boldsymbol{y} = \\Phi \\boldsymbol{w}$と書ける。\n",
    "\n",
    "ただし、$\\Phi = [\\boldsymbol{\\phi}(x_{1}), \\boldsymbol{\\phi}(x_{2}),.., \\boldsymbol{\\phi}(x_{n})]^{\\mathrm{T}}$である。\n",
    "\n",
    "よって、最小化する目的関数は$L = ||\\boldsymbol{y}  - \\Phi \\boldsymbol{w}||^2$と書け、\n",
    "\n",
    "$\\frac{\\partial L}{\\partial \\boldsymbol{w}} = - 2 \\Phi^{\\mathrm{T}} (\\boldsymbol{y} - \\Phi \\boldsymbol{w}) = 0$より、求める回帰係数$\\boldsymbol{w}$は以下のように書ける。\n",
    "\n",
    "$\\hat{\\boldsymbol{w}} = \\left( \\Phi^{\\mathrm{T}} \\Phi \\right)^{-1}  \\Phi^{\\mathrm{T}} \\boldsymbol{y}$"
   ]
  },
  {
   "cell_type": "code",
   "execution_count": 9,
   "metadata": {
    "collapsed": false
   },
   "outputs": [],
   "source": [
    "def polynomial_features(x, degree=3):\n",
    "    \"\"\"多項式特徴ベクトルに変換\n",
    "         X = [[1, x1, x1^2, x1^3],\n",
    "                 [1, x2, x2^2, x2^3],\n",
    "                   ...                             \n",
    "                 [1, xn, xn^2, xn^3]]\"\"\"\n",
    "    X = np.ones((len(x), degree+1))\n",
    "    X_t = X.T\n",
    "    for i in range(1, degree+1):\n",
    "        X_t[i] = X_t[i-1] * x\n",
    "    return X_t.T"
   ]
  },
  {
   "cell_type": "code",
   "execution_count": 10,
   "metadata": {
    "collapsed": false
   },
   "outputs": [],
   "source": [
    "Phi = polynomial_features(x_train)\n",
    "# w = np.dot(np.linalg.pinv(Phi), y_train)\n",
    "pinv = np.dot(np.linalg.inv(np.dot(Phi.T, Phi)), Phi.T)\n",
    "w = np.dot(pinv, y_train)"
   ]
  },
  {
   "cell_type": "markdown",
   "metadata": {},
   "source": [
    "## 予測"
   ]
  },
  {
   "cell_type": "markdown",
   "metadata": {},
   "source": [
    "入力を多項式特徴ベクトル$\\boldsymbol{\\phi(x)}$に変換し、$y = \\hat{\\boldsymbol{w}} \\boldsymbol{\\phi(x)}\\  (\\boldsymbol{y}(x) = \\Phi \\hat{\\boldsymbol{w}})$で予測する。"
   ]
  },
  {
   "cell_type": "code",
   "execution_count": 11,
   "metadata": {
    "collapsed": true
   },
   "outputs": [],
   "source": [
    "Phi_test = polynomial_features(xx)\n",
    "y_pred = np.dot(Phi_test, w)"
   ]
  },
  {
   "cell_type": "code",
   "execution_count": 12,
   "metadata": {
    "collapsed": false
   },
   "outputs": [
    {
     "data": {
      "image/png": "[encoded data removed]",
      "text/plain": [
       "<matplotlib.figure.Figure at 0x105f96748>"
      ]
     },
     "metadata": {},
     "output_type": "display_data"
    }
   ],
   "source": [
    "plt.scatter(x_train, y_train, facecolor=\"none\", edgecolor=\"b\", s=50, label=\"training data\")\n",
    "plt.plot(xx, y_true, label=\"$\\sin(2\\pi x)$\")\n",
    "plt.plot(xx, y_pred, label=\"prediction\")\n",
    "plt.legend()\n",
    "plt.show()"
   ]
  },
  {
   "cell_type": "markdown",
   "metadata": {},
   "source": [
    "# 重回帰分析"
   ]
  },
  {
   "cell_type": "markdown",
   "metadata": {},
   "source": [
    "## 訓練データ生成 (3次元入力)"
   ]
  },
  {
   "cell_type": "code",
   "execution_count": 13,
   "metadata": {
    "collapsed": false
   },
   "outputs": [],
   "source": [
    "x = np.random.random((10, 3))\n",
    "ww = [1., 0.5, 2., 1.]\n",
    "y_true = ww[0] + ww[1] * x[:, 0] + ww[2] * x[:, 1] + ww[3] * x[:, 2]\n",
    "y = y_true + np.random.normal(scale=0.1, size=y_true.shape)\n",
    "x_train = x\n",
    "y_train = y"
   ]
  },
  {
   "cell_type": "markdown",
   "metadata": {},
   "source": [
    "## 学習"
   ]
  },
  {
   "cell_type": "markdown",
   "metadata": {},
   "source": [
    "モデルとして以下を用いる。\n",
    "\n",
    "$y(x) = \\sum_{i=0}^{d} w_{i} x_{i} = \\boldsymbol{w}^{\\mathrm{T}}  \\boldsymbol{x}$\n",
    "\n",
    "ただし、陽には書かないが、$\\boldsymbol{x}$には定数項のための$1$という要素があることを仮定する。\n",
    "\n",
    "訓練データ$X, \\boldsymbol{y}$に対しては$\\boldsymbol{y} = X \\boldsymbol{w}$と書ける。\n",
    "\n",
    "よって、最小化する目的関数は$L = ||\\boldsymbol{y}  - X \\boldsymbol{w}||^2$と書け、\n",
    "\n",
    "$\\frac{\\partial L}{\\partial \\boldsymbol{w}} = - 2 X^{\\mathrm{T}} (\\boldsymbol{y} - X \\boldsymbol{w}) = 0$より、求める回帰係数$\\boldsymbol{w}$は以下のように書ける。\n",
    "\n",
    "$\\hat{\\boldsymbol{w}} = \\left( X^{\\mathrm{T}} X \\right)^{-1}  X^{\\mathrm{T}} \\boldsymbol{y}$"
   ]
  },
  {
   "cell_type": "code",
   "execution_count": 14,
   "metadata": {
    "collapsed": false
   },
   "outputs": [],
   "source": [
    "def add_one(x):\n",
    "    return np.concatenate([np.ones(len(x))[:, None], x], axis=1)\n",
    "\n",
    "X_train = add_one(x_train)\n",
    "pinv = np.dot(np.linalg.inv(np.dot(X_train.T, X_train)), X_train.T)\n",
    "w = np.dot(pinv, y_train)"
   ]
  },
  {
   "cell_type": "markdown",
   "metadata": {},
   "source": [
    "## 予測"
   ]
  },
  {
   "cell_type": "markdown",
   "metadata": {},
   "source": [
    "入力に対する値を$y(x) = \\hat{\\boldsymbol{w}}^{\\mathrm{T}}  \\boldsymbol{x} \\ (\\boldsymbol{y} = X\\hat{\\boldsymbol{w}})$で予測する"
   ]
  },
  {
   "cell_type": "markdown",
   "metadata": {},
   "source": [
    "## パラメータ推定結果"
   ]
  },
  {
   "cell_type": "code",
   "execution_count": 15,
   "metadata": {
    "collapsed": false
   },
   "outputs": [
    {
     "name": "stdout",
     "output_type": "stream",
     "text": [
      "w0_true:   1.0   w0_estimated:  0.77\n",
      "w1_true:   0.5   w1_estimated:  0.68\n",
      "w2_true:   2.0   w2_estimated:   2.0\n",
      "w3_true:   1.0   w3_estimated:   1.1\n"
     ]
    }
   ],
   "source": [
    "for i in range(len(w)):\n",
    "    print(\"w{0}_true: {1:>5.2}   w{0}_estimated: {2:>5.2}\".format(i, ww[i], w[i]))"
   ]
  }
 ],
 "metadata": {
  "kernelspec": {
   "display_name": "Python 3",
   "language": "python",
   "name": "python3"
  },
  "language_info": {
   "codemirror_mode": {
    "name": "ipython",
    "version": 3
   },
   "file_extension": ".py",
   "mimetype": "text/x-python",
   "name": "python",
   "nbconvert_exporter": "python",
   "pygments_lexer": "ipython3",
   "version": "3.6.0"
  }
 },
 "nbformat": 4,
 "nbformat_minor": 2
}
